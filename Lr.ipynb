{
  "nbformat": 4,
  "nbformat_minor": 0,
  "metadata": {
    "colab": {
      "provenance": [],
      "authorship_tag": "ABX9TyOsdgVAgfjiN/hbma4xKk7p",
      "include_colab_link": true
    },
    "kernelspec": {
      "name": "python3",
      "display_name": "Python 3"
    },
    "language_info": {
      "name": "python"
    }
  },
  "cells": [
    {
      "cell_type": "markdown",
      "metadata": {
        "id": "view-in-github",
        "colab_type": "text"
      },
      "source": [
        "<a href=\"https://colab.research.google.com/github/Rlackdals981010/ai_Study/blob/master/Lr.ipynb\" target=\"_parent\"><img src=\"https://colab.research.google.com/assets/colab-badge.svg\" alt=\"Open In Colab\"/></a>"
      ]
    },
    {
      "cell_type": "code",
      "source": [
        "import pandas as pd\n",
        "import numpy as np"
      ],
      "metadata": {
        "id": "wVQMsNnz2oup"
      },
      "execution_count": 38,
      "outputs": []
    },
    {
      "cell_type": "code",
      "source": [
        "fish = pd.read_csv('https://bit.ly/fish_csv_data')"
      ],
      "metadata": {
        "id": "2Ul-WVSo0OPb"
      },
      "execution_count": 4,
      "outputs": []
    },
    {
      "cell_type": "code",
      "source": [
        "print(pd.unique(fish['Species']))"
      ],
      "metadata": {
        "colab": {
          "base_uri": "https://localhost:8080/"
        },
        "id": "cH5Zn6T10RIm",
        "outputId": "4ab6c0f5-91e2-42d5-fa82-1a119d8936da"
      },
      "execution_count": 5,
      "outputs": [
        {
          "output_type": "stream",
          "name": "stdout",
          "text": [
            "['Bream' 'Roach' 'Whitefish' 'Parkki' 'Perch' 'Pike' 'Smelt']\n"
          ]
        }
      ]
    },
    {
      "cell_type": "code",
      "source": [
        "fish_input = fish[['Weight','Length','Diagonal','Height','Width']].to_numpy()"
      ],
      "metadata": {
        "id": "ciR5KcMm0ZrF"
      },
      "execution_count": 6,
      "outputs": []
    },
    {
      "cell_type": "code",
      "source": [
        "print(fish_input[:5])"
      ],
      "metadata": {
        "colab": {
          "base_uri": "https://localhost:8080/"
        },
        "id": "yRshiUUP0mzc",
        "outputId": "f82da51e-d908-42d5-e1d2-b28e1b176bc1"
      },
      "execution_count": 7,
      "outputs": [
        {
          "output_type": "stream",
          "name": "stdout",
          "text": [
            "[[242.      25.4     30.      11.52     4.02  ]\n",
            " [290.      26.3     31.2     12.48     4.3056]\n",
            " [340.      26.5     31.1     12.3778   4.6961]\n",
            " [363.      29.      33.5     12.73     4.4555]\n",
            " [430.      29.      34.      12.444    5.134 ]]\n"
          ]
        }
      ]
    },
    {
      "cell_type": "code",
      "source": [
        "#타겟 데이터 추출\n",
        "fish_target=fish['Species'].to_numpy()"
      ],
      "metadata": {
        "id": "PtkdfHUA0oTi"
      },
      "execution_count": 9,
      "outputs": []
    },
    {
      "cell_type": "code",
      "source": [
        "#훈련, 테스트 모델 분리\n",
        "from sklearn.model_selection import train_test_split\n",
        "train_input, test_input, train_target, test_target = train_test_split(fish_input, fish_target, random_state=42)"
      ],
      "metadata": {
        "id": "vsb77k5r0tH-"
      },
      "execution_count": 10,
      "outputs": []
    },
    {
      "cell_type": "code",
      "source": [
        "#전처리\n",
        "from sklearn.preprocessing import StandardScaler\n",
        "ss = StandardScaler()\n",
        "ss.fit(train_input)\n",
        "train_scaled = ss.transform(train_input)\n",
        "test_scaled = ss.transform(test_input)"
      ],
      "metadata": {
        "id": "irMgihhS1Fhg"
      },
      "execution_count": 11,
      "outputs": []
    },
    {
      "cell_type": "code",
      "source": [
        "#로지스틱(시그모이드) 회귀\n",
        "##선형 회귀와 동일하게 선형 방정식 학습\n",
        "bream_smelt_indexex = (train_target == 'Bream')|(train_target=='Smelt')\n",
        "train_bream_smelt = train_scaled[bream_smelt_indexex]\n",
        "target_bream_smelt = train_target[bream_smelt_indexex]\n",
        "from sklearn.linear_model import LogisticRegression\n",
        "lr = LogisticRegression()\n",
        "lr.fit(train_bream_smelt, target_bream_smelt)\n",
        "\n",
        "print(lr.predict(train_bream_smelt[:5]))\n",
        "print(lr.classes_)#앞이 음성 클래스, 뒤는 양성\n",
        "print(lr.predict_proba(train_bream_smelt[:5]))#앞이 음성 클래스에 대한 확률, 뒤는 양성\n",
        "print(lr.coef_, lr.intercept_)\n",
        "#z = -0.404*(Weight) - 0.576*(Length) - 0.663*(Diagonal) - 1.013*(Height) - 0.732*(Width) - 2.161\n",
        "decisions = lr.decision_function(train_bream_smelt[:5])#양성 클래스에 대한 z값 반환\n",
        "print(decisions)\n",
        "#z값을 시그모이드 함수를 통해 확률로 변환하기\n",
        "from scipy.special import expit\n",
        "print(expit(decisions))"
      ],
      "metadata": {
        "colab": {
          "base_uri": "https://localhost:8080/"
        },
        "id": "mbFMIb5P1RZj",
        "outputId": "937225ea-919a-425f-81ec-c8c391f72ef5"
      },
      "execution_count": 32,
      "outputs": [
        {
          "output_type": "stream",
          "name": "stdout",
          "text": [
            "['Bream' 'Smelt' 'Bream' 'Bream' 'Bream']\n",
            "['Bream' 'Smelt']\n",
            "[[0.99759855 0.00240145]\n",
            " [0.02735183 0.97264817]\n",
            " [0.99486072 0.00513928]\n",
            " [0.98584202 0.01415798]\n",
            " [0.99767269 0.00232731]]\n",
            "[[-0.4037798  -0.57620209 -0.66280298 -1.01290277 -0.73168947]] [-2.16155132]\n",
            "[-6.02927744  3.57123907 -5.26568906 -4.24321775 -6.0607117 ]\n",
            "[0.00240145 0.97264817 0.00513928 0.01415798 0.00232731]\n"
          ]
        }
      ]
    },
    {
      "cell_type": "code",
      "source": [
        "#로지스틱 회귀로 다중 분류 수행\n",
        "lr = LogisticRegression(C=20, max_iter=1000)\n",
        "lr.fit(train_scaled,train_target)\n",
        "print(lr.score(train_scaled,train_target))\n",
        "print(lr.score(test_scaled,test_target))\n",
        "#값이 적절해 보임 -> 과대, 과소 아닌듯\n",
        "print(lr.predict(test_scaled[:5]))\n",
        "print(lr.classes_)\n",
        "proba = lr.predict_proba(test_scaled[:5])\n",
        "print(np.round(proba,decimals=3))\n",
        "#5개 샘플, 7개 생선\n",
        "print(lr.coef_.shape, lr.intercept_.shape)\n",
        "#특성이 5개이므로 coef_배열의 열 5\n",
        "##행과 intercept가 7이라는 건 계수와 절편이 7개, 즉 z를 7개를 계산한다는 것\n",
        "###z가 가장 큰 클래스가 예측 클래스\n",
        "####소프트맥스 함수를 이용한다. (이진 분류는 시그모이드함수를 통해 0<z<1) <- 이 2개의 함수는 신경망에서도 사용함"
      ],
      "metadata": {
        "colab": {
          "base_uri": "https://localhost:8080/"
        },
        "id": "ttKIeFSU1vNq",
        "outputId": "7e51444d-59ce-4acb-ad19-7eca0cb35d29"
      },
      "execution_count": 42,
      "outputs": [
        {
          "output_type": "stream",
          "name": "stdout",
          "text": [
            "0.9327731092436975\n",
            "0.925\n",
            "['Perch' 'Smelt' 'Pike' 'Roach' 'Perch']\n",
            "['Bream' 'Parkki' 'Perch' 'Pike' 'Roach' 'Smelt' 'Whitefish']\n",
            "[[0.    0.014 0.841 0.    0.136 0.007 0.003]\n",
            " [0.    0.003 0.044 0.    0.007 0.946 0.   ]\n",
            " [0.    0.    0.034 0.935 0.015 0.016 0.   ]\n",
            " [0.011 0.034 0.306 0.007 0.567 0.    0.076]\n",
            " [0.    0.    0.904 0.002 0.089 0.002 0.001]]\n",
            "(7, 5) (7,)\n"
          ]
        }
      ]
    },
    {
      "cell_type": "code",
      "source": [
        "decision = lr.decision_function(test_scaled[:5])\n",
        "print(np.round(decision,decimals=2))\n",
        "from scipy.special import softmax\n",
        "proba = softmax(decision, axis=1) # 소프트맥스 함수, decision 배열을 하고, axis=1로 각 행, 즉 샘플에 대해 계산했음, 지정 안하면 배열 전체에 대해 계산함\n",
        "print(np.round(proba,decimals=3))"
      ],
      "metadata": {
        "colab": {
          "base_uri": "https://localhost:8080/"
        },
        "id": "JJ8mCxgR4pcP",
        "outputId": "427f8faa-f95e-4757-cfec-229db7d920bc"
      },
      "execution_count": 46,
      "outputs": [
        {
          "output_type": "stream",
          "name": "stdout",
          "text": [
            "[[ -6.5    1.03   5.16  -2.73   3.34   0.33  -0.63]\n",
            " [-10.86   1.93   4.77  -2.4    2.98   7.84  -4.26]\n",
            " [ -4.34  -6.23   3.17   6.49   2.36   2.42  -3.87]\n",
            " [ -0.68   0.45   2.65  -1.19   3.26  -5.75   1.26]\n",
            " [ -6.4   -1.99   5.82  -0.11   3.5   -0.11  -0.71]]\n",
            "[[0.    0.014 0.841 0.    0.136 0.007 0.003]\n",
            " [0.    0.003 0.044 0.    0.007 0.946 0.   ]\n",
            " [0.    0.    0.034 0.935 0.015 0.016 0.   ]\n",
            " [0.011 0.034 0.306 0.007 0.567 0.    0.076]\n",
            " [0.    0.    0.904 0.002 0.089 0.002 0.001]]\n"
          ]
        }
      ]
    },
    {
      "cell_type": "code",
      "source": [],
      "metadata": {
        "id": "MLAXh0Ik7AXB"
      },
      "execution_count": null,
      "outputs": []
    }
  ]
}