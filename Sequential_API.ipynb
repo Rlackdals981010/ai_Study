{
 "cells": [
  {
   "cell_type": "code",
   "execution_count": 2,
   "id": "819d010a",
   "metadata": {},
   "outputs": [],
   "source": [
    "from tensorflow.keras.layers import Input, Dense\n",
    "from tensorflow.keras.models import Model"
   ]
  },
  {
   "cell_type": "code",
   "execution_count": 5,
   "id": "f86566d3",
   "metadata": {},
   "outputs": [
    {
     "name": "stdout",
     "output_type": "stream",
     "text": [
      "Model: \"model_2\"\n",
      "_________________________________________________________________\n",
      " Layer (type)                Output Shape              Param #   \n",
      "=================================================================\n",
      " input_3 (InputLayer)        [(None, 32, 32, 1)]       0         \n",
      "                                                                 \n",
      " dense_6 (Dense)             (None, 32, 32, 100)       200       \n",
      "                                                                 \n",
      " dense_7 (Dense)             (None, 32, 32, 50)        5050      \n",
      "                                                                 \n",
      " dense_8 (Dense)             (None, 32, 32, 5)         255       \n",
      "                                                                 \n",
      "=================================================================\n",
      "Total params: 5,505\n",
      "Trainable params: 5,505\n",
      "Non-trainable params: 0\n",
      "_________________________________________________________________\n"
     ]
    }
   ],
   "source": [
    "input_layer = Input(shape=(32,32,1))#모델의 입력 레이어 정의. (32,32,1)형태로 32x32 크기의 흑백 이미지 \n",
    "x = Dense(units=100,activation = 'relu')(input_layer) #첫 번째 은닉층. Dense=전결합 레이어. 뉴런의 개수 100개, 활성화 함수 ReLu. 입력 레이어와 연결 -> 첫 번째 은닉층\n",
    "x = Dense(units=50,activation = 'relu')(x) # 두 번째 은닉층. 전결합 레이어. 뉴런 50개. ReLu, 첫 번째 은닉층의 출력과 연결\n",
    "output_layer = Dense(units=5,activation='softmax')(x) #출력 레이어. 출력 뉴런 5개 -> 모델이 5개의 클래스로 분류. softmax 사용\n",
    "model2 = Model(input_layer,output_layer)\n",
    "model2.summary()\n",
    "model2.compile()"
   ]
  },
  {
   "cell_type": "code",
   "execution_count": null,
   "id": "bb9a696e",
   "metadata": {},
   "outputs": [],
   "source": []
  }
 ],
 "metadata": {
  "kernelspec": {
   "display_name": "Python 3 (ipykernel)",
   "language": "python",
   "name": "python3"
  },
  "language_info": {
   "codemirror_mode": {
    "name": "ipython",
    "version": 3
   },
   "file_extension": ".py",
   "mimetype": "text/x-python",
   "name": "python",
   "nbconvert_exporter": "python",
   "pygments_lexer": "ipython3",
   "version": "3.8.18"
  }
 },
 "nbformat": 4,
 "nbformat_minor": 5
}
