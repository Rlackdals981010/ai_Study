{
 "cells": [
  {
   "cell_type": "code",
   "execution_count": 1,
   "id": "9a708a8e",
   "metadata": {},
   "outputs": [],
   "source": [
    "from sklearn import datasets\n",
    "raw_wine = datasets.load_wine()"
   ]
  },
  {
   "cell_type": "code",
   "execution_count": 2,
   "id": "daa1dbcc",
   "metadata": {},
   "outputs": [],
   "source": [
    "X = raw_wine.data\n",
    "y = raw_wine.target"
   ]
  },
  {
   "cell_type": "code",
   "execution_count": 3,
   "id": "e6dfa9e2",
   "metadata": {},
   "outputs": [],
   "source": [
    "from sklearn.model_selection import train_test_split\n",
    "X_tn,X_te,y_tn,y_te = train_test_split(X,y,random_state=1)"
   ]
  },
  {
   "cell_type": "code",
   "execution_count": 4,
   "id": "39ea1be8",
   "metadata": {},
   "outputs": [],
   "source": [
    "from sklearn.preprocessing import StandardScaler\n",
    "std_scale = StandardScaler()\n",
    "std_scale.fit(X_tn)\n",
    "X_tn_std = std_scale.transform(X_tn)\n",
    "X_te_std = std_scale.transform(X_te)"
   ]
  },
  {
   "cell_type": "code",
   "execution_count": 6,
   "id": "a1f7db3f",
   "metadata": {},
   "outputs": [],
   "source": [
    "#LDA\n",
    "from sklearn.discriminant_analysis import LinearDiscriminantAnalysis\n",
    "lda = LinearDiscriminantAnalysis()\n",
    "lda.fit(X_tn_std,y_tn)\n",
    "X_tn_lda = lda.transform(X_tn_std)\n",
    "X_te_lda = lda.transform(X_te_std)"
   ]
  },
  {
   "cell_type": "code",
   "execution_count": 7,
   "id": "ec5de6c9",
   "metadata": {},
   "outputs": [
    {
     "name": "stdout",
     "output_type": "stream",
     "text": [
      "(133, 13)\n",
      "(45, 13)\n"
     ]
    }
   ],
   "source": [
    "print(X_tn_std.shape)\n",
    "print(X_te_std.shape)"
   ]
  },
  {
   "cell_type": "code",
   "execution_count": 11,
   "id": "fe051b74",
   "metadata": {},
   "outputs": [
    {
     "name": "stdout",
     "output_type": "stream",
     "text": [
      "[ -9.49063922  -3.6792656  -10.65310672]\n",
      "[[ 2.11536841  0.34171834  1.60756274 -2.62777005 -0.02954383 -1.92461007\n",
      "   5.43612614  0.30142527 -0.66723405 -2.08948728  0.53569108  3.06011656\n",
      "   5.45318503]\n",
      " [-1.18707715 -0.97635273 -1.64104916  1.19614378  0.22114803  0.2969019\n",
      "   1.13721801  0.4338713   0.33425086 -1.57541361  0.56544507 -0.17730553\n",
      "  -2.34856045]\n",
      " [-0.59547207  1.01875252  0.59754164  1.13544231 -0.28238675  1.65463974\n",
      "  -7.48134065 -0.94177595  0.24492236  4.49319245 -1.38150969 -3.04974421\n",
      "  -2.54627163]]\n"
     ]
    }
   ],
   "source": [
    "print(lda.intercept_)\n",
    "print(lda.coef_)"
   ]
  },
  {
   "cell_type": "code",
   "execution_count": 13,
   "id": "b25c9eb6",
   "metadata": {},
   "outputs": [
    {
     "data": {
      "text/html": [
       "<div>\n",
       "<style scoped>\n",
       "    .dataframe tbody tr th:only-of-type {\n",
       "        vertical-align: middle;\n",
       "    }\n",
       "\n",
       "    .dataframe tbody tr th {\n",
       "        vertical-align: top;\n",
       "    }\n",
       "\n",
       "    .dataframe thead th {\n",
       "        text-align: right;\n",
       "    }\n",
       "</style>\n",
       "<table border=\"1\" class=\"dataframe\">\n",
       "  <thead>\n",
       "    <tr style=\"text-align: right;\">\n",
       "      <th></th>\n",
       "      <th>lda_comp1</th>\n",
       "      <th>lda_comp2</th>\n",
       "      <th>target</th>\n",
       "    </tr>\n",
       "  </thead>\n",
       "  <tbody>\n",
       "    <tr>\n",
       "      <th>0</th>\n",
       "      <td>-2.563293</td>\n",
       "      <td>-0.503212</td>\n",
       "      <td>0</td>\n",
       "    </tr>\n",
       "    <tr>\n",
       "      <th>1</th>\n",
       "      <td>-0.646015</td>\n",
       "      <td>-2.169761</td>\n",
       "      <td>1</td>\n",
       "    </tr>\n",
       "    <tr>\n",
       "      <th>2</th>\n",
       "      <td>-3.981901</td>\n",
       "      <td>1.621584</td>\n",
       "      <td>0</td>\n",
       "    </tr>\n",
       "    <tr>\n",
       "      <th>3</th>\n",
       "      <td>-5.956216</td>\n",
       "      <td>3.878140</td>\n",
       "      <td>0</td>\n",
       "    </tr>\n",
       "    <tr>\n",
       "      <th>4</th>\n",
       "      <td>-4.047839</td>\n",
       "      <td>2.335699</td>\n",
       "      <td>0</td>\n",
       "    </tr>\n",
       "  </tbody>\n",
       "</table>\n",
       "</div>"
      ],
      "text/plain": [
       "   lda_comp1  lda_comp2  target\n",
       "0  -2.563293  -0.503212       0\n",
       "1  -0.646015  -2.169761       1\n",
       "2  -3.981901   1.621584       0\n",
       "3  -5.956216   3.878140       0\n",
       "4  -4.047839   2.335699       0"
      ]
     },
     "execution_count": 13,
     "metadata": {},
     "output_type": "execute_result"
    }
   ],
   "source": [
    "#lda 적용 후 데이터 셋\n",
    "import pandas as pd\n",
    "lda_columns = ['lda_comp1','lda_comp2']\n",
    "X_tn_lda_df = pd.DataFrame(X_tn_lda,columns=lda_columns)\n",
    "X_tn_lda_df['target'] = y_tn\n",
    "X_tn_lda_df.head(5)"
   ]
  },
  {
   "cell_type": "code",
   "execution_count": 16,
   "id": "bc665f39",
   "metadata": {},
   "outputs": [
    {
     "data": {
      "image/png": "[encoded data removed]",
      "text/plain": [
       "<Figure size 640x480 with 1 Axes>"
      ]
     },
     "metadata": {},
     "output_type": "display_data"
    }
   ],
   "source": [
    "import matplotlib.pyplot as plt\n",
    "df = X_tn_lda_df\n",
    "markers=['o','x','^']\n",
    "\n",
    "for i,mark in enumerate(markers):\n",
    "    X_i = df[df['target']==i]\n",
    "    target_i = raw_wine.target_names[i]\n",
    "    X1 = X_i['lda_comp1']\n",
    "    X2 = X_i['lda_comp2']\n",
    "    plt.scatter(X1,X2,marker=mark,label=target_i)\n",
    "    \n",
    "plt.xlabel('lda_component1')\n",
    "plt.ylabel('lda_component2')\n",
    "plt.legend()\n",
    "plt.show()"
   ]
  },
  {
   "cell_type": "code",
   "execution_count": 17,
   "id": "94b2e57c",
   "metadata": {},
   "outputs": [],
   "source": [
    "from sklearn.ensemble import RandomForestClassifier\n",
    "clf_rf_lda = RandomForestClassifier(max_depth=2, random_state=0)\n",
    "clf_rf_lda.fit(X_tn_lda, y_tn)\n",
    "pred_rf_lda = clf_rf_lda.predict(X_te_lda)"
   ]
  },
  {
   "cell_type": "code",
   "execution_count": 18,
   "id": "76bd6361",
   "metadata": {},
   "outputs": [
    {
     "name": "stdout",
     "output_type": "stream",
     "text": [
      "1.0\n"
     ]
    }
   ],
   "source": [
    "from sklearn.metrics import accuracy_score\n",
    "accuracy = accuracy_score(y_te,pred_rf_lda)\n",
    "print(accuracy)"
   ]
  },
  {
   "cell_type": "code",
   "execution_count": null,
   "id": "2a60a9e9",
   "metadata": {},
   "outputs": [],
   "source": []
  }
 ],
 "metadata": {
  "kernelspec": {
   "display_name": "Python 3 (ipykernel)",
   "language": "python",
   "name": "python3"
  },
  "language_info": {
   "codemirror_mode": {
    "name": "ipython",
    "version": 3
   },
   "file_extension": ".py",
   "mimetype": "text/x-python",
   "name": "python",
   "nbconvert_exporter": "python",
   "pygments_lexer": "ipython3",
   "version": "3.8.18"
  }
 },
 "nbformat": 4,
 "nbformat_minor": 5
}
