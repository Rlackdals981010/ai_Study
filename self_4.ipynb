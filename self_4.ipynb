{
  "nbformat": 4,
  "nbformat_minor": 0,
  "metadata": {
    "colab": {
      "provenance": [],
      "authorship_tag": "ABX9TyMMmtgByjcFcYrebFYFegYI",
      "include_colab_link": true
    },
    "kernelspec": {
      "name": "python3",
      "display_name": "Python 3"
    },
    "language_info": {
      "name": "python"
    }
  },
  "cells": [
    {
      "cell_type": "markdown",
      "metadata": {
        "id": "view-in-github",
        "colab_type": "text"
      },
      "source": [
        "<a href=\"https://colab.research.google.com/github/Rlackdals981010/ai_Study/blob/master/self_4.ipynb\" target=\"_parent\"><img src=\"https://colab.research.google.com/assets/colab-badge.svg\" alt=\"Open In Colab\"/></a>"
      ]
    },
    {
      "cell_type": "code",
      "execution_count": 1,
      "metadata": {
        "id": "ssNL6nAbJXet"
      },
      "outputs": [],
      "source": [
        "#3-1 농어의 무게를 예측하라 (회귀/regression)\n",
        "#k-최근접 이웃 회귀\n",
        "##이웃 값의 평균으로 에측하는거임\n",
        "\n",
        "#회귀 문제는 특성n개면 n+1 그래프가 필요함\n",
        "#그래서 연습때는 특성1개로 하고 2d 그래프로 설명."
      ]
    },
    {
      "cell_type": "code",
      "source": [
        "import matplotlib.pyplot as plt\n",
        "import numpy as np\n",
        "from sklearn.model_selection import train_test_split\n",
        "from sklearn.neighbors import KNeighborsRegressor # Classifier -> 분류, Regressor -> 회귀\n",
        "from sklearn.metrics import mean_absolute_error # 평균 절댓값 오차"
      ],
      "metadata": {
        "id": "6r_7Xzy8LJPT"
      },
      "execution_count": 19,
      "outputs": []
    },
    {
      "cell_type": "code",
      "source": [
        "####훈련 세트 준비\n",
        "perch_length = np.array([8.4, 13.7, 15.0, 16.2, 17.4, 18.0, 18.7, 19.0, 19.6, 20.0, 21.0,\n",
        "       21.0, 21.0, 21.3, 22.0, 22.0, 22.0, 22.0, 22.0, 22.5, 22.5, 22.7,\n",
        "       23.0, 23.5, 24.0, 24.0, 24.6, 25.0, 25.6, 26.5, 27.3, 27.5, 27.5,\n",
        "       27.5, 28.0, 28.7, 30.0, 32.8, 34.5, 35.0, 36.5, 36.0, 37.0, 37.0,\n",
        "       39.0, 39.0, 39.0, 40.0, 40.0, 40.0, 40.0, 42.0, 43.0, 43.0, 43.5,\n",
        "       44.0])\n",
        "perch_weight = np.array([5.9, 32.0, 40.0, 51.5, 70.0, 100.0, 78.0, 80.0, 85.0, 85.0, 110.0,\n",
        "       115.0, 125.0, 130.0, 120.0, 120.0, 130.0, 135.0, 110.0, 130.0,\n",
        "       150.0, 145.0, 150.0, 170.0, 225.0, 145.0, 188.0, 180.0, 197.0,\n",
        "       218.0, 300.0, 260.0, 265.0, 250.0, 250.0, 300.0, 320.0, 514.0,\n",
        "       556.0, 840.0, 685.0, 700.0, 700.0, 690.0, 900.0, 650.0, 820.0,\n",
        "       850.0, 900.0, 1015.0, 820.0, 1100.0, 1000.0, 1100.0, 1000.0,\n",
        "       1000.0])"
      ],
      "metadata": {
        "id": "UXy050caNCfM"
      },
      "execution_count": 20,
      "outputs": []
    },
    {
      "cell_type": "code",
      "source": [
        "train_input,test_input,train_target,test_target = train_test_split(perch_length,perch_weight,random_state=42)\n",
        "#reshape : 1차원 배열을 행:샘플, 열:특성으로 나열하는 2차원 배열로 바꿔주는 기능을 함. 2번 매개변수 : 1 -> 열 1개, 1번 매개변수 : 행방향 개수 -1 -> 남은 차원 다 사용\n",
        "train_input = train_input.reshape(-1,1)\n",
        "test_input = test_input.reshape(-1,1)"
      ],
      "metadata": {
        "id": "Uik4xi5aL3TZ"
      },
      "execution_count": 21,
      "outputs": []
    },
    {
      "cell_type": "code",
      "source": [
        "###회귀 모델 훈련\n",
        "knr = KNeighborsRegressor()\n",
        "knr.fit(train_input,train_target)\n",
        "knr.score(train_input,train_target) #1과 근접할수록 좋음"
      ],
      "metadata": {
        "colab": {
          "base_uri": "https://localhost:8080/"
        },
        "id": "TaYJeR0vNuGz",
        "outputId": "417fd7b2-ba07-4b9d-98ad-00e68da49aaf"
      },
      "execution_count": 22,
      "outputs": [
        {
          "output_type": "execute_result",
          "data": {
            "text/plain": [
              "0.9698823289099254"
            ]
          },
          "metadata": {},
          "execution_count": 22
        }
      ]
    },
    {
      "cell_type": "code",
      "source": [
        "test_prediction = knr.predict(test_input)\n",
        "mae = mean_absolute_error(test_target, test_prediction)\n",
        "print(mae)"
      ],
      "metadata": {
        "colab": {
          "base_uri": "https://localhost:8080/"
        },
        "id": "L5tOC3qpOWva",
        "outputId": "9ec4654b-6c09-4250-a106-16683e73acd2"
      },
      "execution_count": 24,
      "outputs": [
        {
          "output_type": "stream",
          "name": "stdout",
          "text": [
            "19.157142857142862\n"
          ]
        }
      ]
    },
    {
      "cell_type": "code",
      "source": [
        "###과대적합과 과소적합 일반적으로 train set 점수가 test set 점수보다 높아야함\n",
        "knr.score(train_input,train_target) #과소 적합 상태 underfitting. 만약 이 점수가 test보다 터무니 없이 높으면 과대적합 overfitting"
      ],
      "metadata": {
        "colab": {
          "base_uri": "https://localhost:8080/"
        },
        "id": "H2YxeDdyO8nD",
        "outputId": "0c267ae7-2000-4507-d506-7ca11222e06b"
      },
      "execution_count": 28,
      "outputs": [
        {
          "output_type": "execute_result",
          "data": {
            "text/plain": [
              "0.9698823289099254"
            ]
          },
          "metadata": {},
          "execution_count": 28
        }
      ]
    },
    {
      "cell_type": "code",
      "source": [
        "knr.score(test_input,test_target)"
      ],
      "metadata": {
        "colab": {
          "base_uri": "https://localhost:8080/"
        },
        "id": "VLzxFCWrPaKR",
        "outputId": "bd041f67-199a-4cce-a8c0-cee253b5c773"
      },
      "execution_count": 29,
      "outputs": [
        {
          "output_type": "execute_result",
          "data": {
            "text/plain": [
              "0.992809406101064"
            ]
          },
          "metadata": {},
          "execution_count": 29
        }
      ]
    },
    {
      "cell_type": "code",
      "source": [
        "###이웃 개수 줄이기를 통해 과소적합 해결\n",
        "knr.n_neighbors=3 # 5->3로 감소\n",
        "knr.fit(train_input,train_target)\n",
        "print(knr.score(train_input,train_target))\n",
        "print(knr.score(test_input,test_target))"
      ],
      "metadata": {
        "colab": {
          "base_uri": "https://localhost:8080/"
        },
        "id": "jdjlOKuePdAB",
        "outputId": "ec3e0f93-e768-48c8-b1c1-443846f5df22"
      },
      "execution_count": 30,
      "outputs": [
        {
          "output_type": "stream",
          "name": "stdout",
          "text": [
            "0.9804899950518966\n",
            "0.9746459963987609\n"
          ]
        }
      ]
    },
    {
      "cell_type": "code",
      "source": [],
      "metadata": {
        "id": "s8EHMwmvQPeL"
      },
      "execution_count": null,
      "outputs": []
    }
  ]
}