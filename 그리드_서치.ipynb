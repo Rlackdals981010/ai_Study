{
 "cells": [
  {
   "cell_type": "code",
   "execution_count": 1,
   "id": "f39c8af6",
   "metadata": {},
   "outputs": [],
   "source": [
    "from sklearn import datasets\n",
    "from sklearn.preprocessing import StandardScaler\n",
    "from sklearn.neighbors import KNeighborsClassifier\n",
    "from sklearn.model_selection import train_test_split"
   ]
  },
  {
   "cell_type": "code",
   "execution_count": 2,
   "id": "17ca66ea",
   "metadata": {},
   "outputs": [],
   "source": [
    "from sklearn.metrics import accuracy_score\n",
    "from sklearn.metrics import confusion_matrix\n",
    "from sklearn.metrics import classification_report"
   ]
  },
  {
   "cell_type": "code",
   "execution_count": 3,
   "id": "c5549687",
   "metadata": {},
   "outputs": [],
   "source": [
    "raw_iris = datasets.load_iris()"
   ]
  },
  {
   "cell_type": "code",
   "execution_count": 4,
   "id": "1272a0fd",
   "metadata": {},
   "outputs": [],
   "source": [
    "X = raw_iris.data\n",
    "y = raw_iris.target"
   ]
  },
  {
   "cell_type": "code",
   "execution_count": 6,
   "id": "51e55947",
   "metadata": {},
   "outputs": [],
   "source": [
    "X_tn,X_te,y_tn,y_te = train_test_split(X,y,random_state=0)"
   ]
  },
  {
   "cell_type": "code",
   "execution_count": 9,
   "id": "db29bec2",
   "metadata": {},
   "outputs": [],
   "source": [
    "std_scale = StandardScaler()\n",
    "std_scale.fit(X_tn)\n",
    "X_tn_std = std_scale.transform(X_tn)\n",
    "X_te_std = std_scale.transform(X_te)"
   ]
  },
  {
   "cell_type": "code",
   "execution_count": 10,
   "id": "c89f0c38",
   "metadata": {},
   "outputs": [],
   "source": [
    "best_accuracy = 0"
   ]
  },
  {
   "cell_type": "code",
   "execution_count": 11,
   "id": "392a2530",
   "metadata": {},
   "outputs": [
    {
     "name": "stdout",
     "output_type": "stream",
     "text": [
      "{'k': 3}\n",
      "0.9736842105263158\n"
     ]
    }
   ],
   "source": [
    "##이 부분이 k 후보중 가장 높은 성능을 보이는 k를 정하는 부분임 -> 그리그 서치\n",
    "for k in [1,2,3,4,5,6,7,8,9,10]:\n",
    "    clf_knn = KNeighborsClassifier(n_neighbors=k)\n",
    "    clf_knn.fit(X_tn_std,y_tn)\n",
    "    knn_pred = clf_knn.predict(X_te_std)\n",
    "    accuracy = accuracy_score(y_te, knn_pred)\n",
    "    if accuracy > best_accuracy :\n",
    "        best_accuracy = accuracy\n",
    "        final_k = {'k':k}\n",
    "        \n",
    "print(final_k)\n",
    "print(accuracy)\n",
    "        "
   ]
  },
  {
   "cell_type": "code",
   "execution_count": null,
   "id": "1fe2defd",
   "metadata": {},
   "outputs": [],
   "source": []
  }
 ],
 "metadata": {
  "kernelspec": {
   "display_name": "Python 3 (ipykernel)",
   "language": "python",
   "name": "python3"
  },
  "language_info": {
   "codemirror_mode": {
    "name": "ipython",
    "version": 3
   },
   "file_extension": ".py",
   "mimetype": "text/x-python",
   "name": "python",
   "nbconvert_exporter": "python",
   "pygments_lexer": "ipython3",
   "version": "3.8.18"
  }
 },
 "nbformat": 4,
 "nbformat_minor": 5
}
