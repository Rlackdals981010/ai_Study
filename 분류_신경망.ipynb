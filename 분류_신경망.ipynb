{
 "cells": [
  {
   "cell_type": "code",
   "execution_count": 1,
   "id": "d766d4a0",
   "metadata": {},
   "outputs": [],
   "source": [
    "import numpy as np\n",
    "import tensorflow as tf\n",
    "np.random.seed(0)\n",
    "tf.random.set_seed(0)"
   ]
  },
  {
   "cell_type": "code",
   "execution_count": 2,
   "id": "55fdc9f2",
   "metadata": {},
   "outputs": [],
   "source": [
    "from sklearn import datasets\n",
    "raw_wine = datasets.load_wine()"
   ]
  },
  {
   "cell_type": "code",
   "execution_count": 3,
   "id": "d4c55d02",
   "metadata": {},
   "outputs": [],
   "source": [
    "X = raw_wine.data\n",
    "y = raw_wine.target"
   ]
  },
  {
   "cell_type": "code",
   "execution_count": 6,
   "id": "1227033a",
   "metadata": {},
   "outputs": [
    {
     "name": "stdout",
     "output_type": "stream",
     "text": [
      "(178, 13)\n",
      "{0, 1, 2}\n"
     ]
    }
   ],
   "source": [
    "print(X.shape) #피처 13개\n",
    "print(set(y)) #분류 문제, 3개의 클래스로"
   ]
  },
  {
   "cell_type": "code",
   "execution_count": 8,
   "id": "34ee7b05",
   "metadata": {},
   "outputs": [
    {
     "name": "stdout",
     "output_type": "stream",
     "text": [
      "[[1. 0. 0.]\n",
      " [1. 0. 0.]\n",
      " [1. 0. 0.]\n",
      " [1. 0. 0.]\n",
      " [1. 0. 0.]\n",
      " [1. 0. 0.]\n",
      " [1. 0. 0.]\n",
      " [1. 0. 0.]\n",
      " [1. 0. 0.]\n",
      " [1. 0. 0.]\n",
      " [1. 0. 0.]\n",
      " [1. 0. 0.]\n",
      " [1. 0. 0.]\n",
      " [1. 0. 0.]\n",
      " [1. 0. 0.]\n",
      " [1. 0. 0.]\n",
      " [1. 0. 0.]\n",
      " [1. 0. 0.]\n",
      " [1. 0. 0.]\n",
      " [1. 0. 0.]\n",
      " [1. 0. 0.]\n",
      " [1. 0. 0.]\n",
      " [1. 0. 0.]\n",
      " [1. 0. 0.]\n",
      " [1. 0. 0.]\n",
      " [1. 0. 0.]\n",
      " [1. 0. 0.]\n",
      " [1. 0. 0.]\n",
      " [1. 0. 0.]\n",
      " [1. 0. 0.]\n",
      " [1. 0. 0.]\n",
      " [1. 0. 0.]\n",
      " [1. 0. 0.]\n",
      " [1. 0. 0.]\n",
      " [1. 0. 0.]\n",
      " [1. 0. 0.]\n",
      " [1. 0. 0.]\n",
      " [1. 0. 0.]\n",
      " [1. 0. 0.]\n",
      " [1. 0. 0.]\n",
      " [1. 0. 0.]\n",
      " [1. 0. 0.]\n",
      " [1. 0. 0.]\n",
      " [1. 0. 0.]\n",
      " [1. 0. 0.]\n",
      " [1. 0. 0.]\n",
      " [1. 0. 0.]\n",
      " [1. 0. 0.]\n",
      " [1. 0. 0.]\n",
      " [1. 0. 0.]\n",
      " [1. 0. 0.]\n",
      " [1. 0. 0.]\n",
      " [1. 0. 0.]\n",
      " [1. 0. 0.]\n",
      " [1. 0. 0.]\n",
      " [1. 0. 0.]\n",
      " [1. 0. 0.]\n",
      " [1. 0. 0.]\n",
      " [1. 0. 0.]\n",
      " [0. 1. 0.]\n",
      " [0. 1. 0.]\n",
      " [0. 1. 0.]\n",
      " [0. 1. 0.]\n",
      " [0. 1. 0.]\n",
      " [0. 1. 0.]\n",
      " [0. 1. 0.]\n",
      " [0. 1. 0.]\n",
      " [0. 1. 0.]\n",
      " [0. 1. 0.]\n",
      " [0. 1. 0.]\n",
      " [0. 1. 0.]\n",
      " [0. 1. 0.]\n",
      " [0. 1. 0.]\n",
      " [0. 1. 0.]\n",
      " [0. 1. 0.]\n",
      " [0. 1. 0.]\n",
      " [0. 1. 0.]\n",
      " [0. 1. 0.]\n",
      " [0. 1. 0.]\n",
      " [0. 1. 0.]\n",
      " [0. 1. 0.]\n",
      " [0. 1. 0.]\n",
      " [0. 1. 0.]\n",
      " [0. 1. 0.]\n",
      " [0. 1. 0.]\n",
      " [0. 1. 0.]\n",
      " [0. 1. 0.]\n",
      " [0. 1. 0.]\n",
      " [0. 1. 0.]\n",
      " [0. 1. 0.]\n",
      " [0. 1. 0.]\n",
      " [0. 1. 0.]\n",
      " [0. 1. 0.]\n",
      " [0. 1. 0.]\n",
      " [0. 1. 0.]\n",
      " [0. 1. 0.]\n",
      " [0. 1. 0.]\n",
      " [0. 1. 0.]\n",
      " [0. 1. 0.]\n",
      " [0. 1. 0.]\n",
      " [0. 1. 0.]\n",
      " [0. 1. 0.]\n",
      " [0. 1. 0.]\n",
      " [0. 1. 0.]\n",
      " [0. 1. 0.]\n",
      " [0. 1. 0.]\n",
      " [0. 1. 0.]\n",
      " [0. 1. 0.]\n",
      " [0. 1. 0.]\n",
      " [0. 1. 0.]\n",
      " [0. 1. 0.]\n",
      " [0. 1. 0.]\n",
      " [0. 1. 0.]\n",
      " [0. 1. 0.]\n",
      " [0. 1. 0.]\n",
      " [0. 1. 0.]\n",
      " [0. 1. 0.]\n",
      " [0. 1. 0.]\n",
      " [0. 1. 0.]\n",
      " [0. 1. 0.]\n",
      " [0. 1. 0.]\n",
      " [0. 1. 0.]\n",
      " [0. 1. 0.]\n",
      " [0. 1. 0.]\n",
      " [0. 1. 0.]\n",
      " [0. 1. 0.]\n",
      " [0. 1. 0.]\n",
      " [0. 1. 0.]\n",
      " [0. 1. 0.]\n",
      " [0. 1. 0.]\n",
      " [0. 0. 1.]\n",
      " [0. 0. 1.]\n",
      " [0. 0. 1.]\n",
      " [0. 0. 1.]\n",
      " [0. 0. 1.]\n",
      " [0. 0. 1.]\n",
      " [0. 0. 1.]\n",
      " [0. 0. 1.]\n",
      " [0. 0. 1.]\n",
      " [0. 0. 1.]\n",
      " [0. 0. 1.]\n",
      " [0. 0. 1.]\n",
      " [0. 0. 1.]\n",
      " [0. 0. 1.]\n",
      " [0. 0. 1.]\n",
      " [0. 0. 1.]\n",
      " [0. 0. 1.]\n",
      " [0. 0. 1.]\n",
      " [0. 0. 1.]\n",
      " [0. 0. 1.]\n",
      " [0. 0. 1.]\n",
      " [0. 0. 1.]\n",
      " [0. 0. 1.]\n",
      " [0. 0. 1.]\n",
      " [0. 0. 1.]\n",
      " [0. 0. 1.]\n",
      " [0. 0. 1.]\n",
      " [0. 0. 1.]\n",
      " [0. 0. 1.]\n",
      " [0. 0. 1.]\n",
      " [0. 0. 1.]\n",
      " [0. 0. 1.]\n",
      " [0. 0. 1.]\n",
      " [0. 0. 1.]\n",
      " [0. 0. 1.]\n",
      " [0. 0. 1.]\n",
      " [0. 0. 1.]\n",
      " [0. 0. 1.]\n",
      " [0. 0. 1.]\n",
      " [0. 0. 1.]\n",
      " [0. 0. 1.]\n",
      " [0. 0. 1.]\n",
      " [0. 0. 1.]\n",
      " [0. 0. 1.]\n",
      " [0. 0. 1.]\n",
      " [0. 0. 1.]\n",
      " [0. 0. 1.]\n",
      " [0. 0. 1.]]\n"
     ]
    }
   ],
   "source": [
    "#타깃 데이터 원-핫 인코딩\n",
    "from tensorflow.keras.utils import to_categorical\n",
    "y_hot = to_categorical(y)\n",
    "print(y_hot)"
   ]
  },
  {
   "cell_type": "code",
   "execution_count": 9,
   "id": "92d96764",
   "metadata": {},
   "outputs": [],
   "source": [
    "from sklearn.model_selection import train_test_split\n",
    "X_tn,X_te,y_tn,y_te = train_test_split(X,y_hot,random_state=0)"
   ]
  },
  {
   "cell_type": "code",
   "execution_count": 12,
   "id": "8e5a6812",
   "metadata": {},
   "outputs": [],
   "source": [
    "#신경망 생성\n",
    "from tensorflow.keras.models import Sequential         #신경망 생성시 선언\n",
    "from tensorflow.keras.layers import Dense              #신경망 층 추가\n",
    "from tensorflow.keras.layers import BatchNormalization #배치 정규화\n",
    "from tensorflow.keras.layers import Activation         #활성화 함수\n",
    "\n",
    "n_feat = X_tn.shape[1] #신경망에 사용되는 피처 개수. 아까 13\n",
    "n_class = len(set(y))  #클래스 개수. 아까 3개\n",
    "epo = 30               #학습 횟수 30번\n",
    " \n",
    "model = Sequential()                                   #초기 모델 생성\n",
    "model.add(Dense(20,input_dim=n_feat))                  #입력층. 아웃풋 차원 20, 피처 13개\n",
    "model.add(BatchNormalization())                        #배치 정규화\n",
    "model.add(Activation('relu'))                          #활성화 함수 relu\n",
    "model.add(Dense(n_class))                              #최종 아웃풋 층. 최종 차원 3 (0,1,2)\n",
    "model.add(Activation('softmax'))                       #보통 최종 아웃풋은 소프트맥스"
   ]
  },
  {
   "cell_type": "code",
   "execution_count": 14,
   "id": "252179cf",
   "metadata": {},
   "outputs": [
    {
     "name": "stdout",
     "output_type": "stream",
     "text": [
      "Model: \"sequential_2\"\n",
      "_________________________________________________________________\n",
      " Layer (type)                Output Shape              Param #   \n",
      "=================================================================\n",
      " dense_2 (Dense)             (None, 20)                280       \n",
      "                                                                 \n",
      " batch_normalization_1 (Batc  (None, 20)               80        \n",
      " hNormalization)                                                 \n",
      "                                                                 \n",
      " activation_2 (Activation)   (None, 20)                0         \n",
      "                                                                 \n",
      " dense_3 (Dense)             (None, 3)                 63        \n",
      "                                                                 \n",
      " activation_3 (Activation)   (None, 3)                 0         \n",
      "                                                                 \n",
      "=================================================================\n",
      "Total params: 423\n",
      "Trainable params: 383\n",
      "Non-trainable params: 40\n",
      "_________________________________________________________________\n"
     ]
    }
   ],
   "source": [
    "#신경망 구조\n",
    "model.summary()"
   ]
  },
  {
   "cell_type": "code",
   "execution_count": 15,
   "id": "4a730eac",
   "metadata": {},
   "outputs": [],
   "source": [
    "#모형 컴파일\n",
    "model.compile(loss='categorical_crossentropy',\n",
    "             optimizer = 'adam',\n",
    "             metrics = ['accuracy'])"
   ]
  },
  {
   "cell_type": "code",
   "execution_count": 16,
   "id": "39f25498",
   "metadata": {},
   "outputs": [
    {
     "name": "stdout",
     "output_type": "stream",
     "text": [
      "Epoch 1/30\n"
     ]
    },
    {
     "name": "stderr",
     "output_type": "stream",
     "text": [
      "2024-01-24 14:14:47.106556: W tensorflow/tsl/platform/profile_utils/cpu_utils.cc:128] Failed to get CPU frequency: 0 Hz\n"
     ]
    },
    {
     "name": "stdout",
     "output_type": "stream",
     "text": [
      "27/27 [==============================] - 0s 515us/step - loss: 2.1165 - accuracy: 0.0902\n",
      "Epoch 2/30\n",
      "27/27 [==============================] - 0s 514us/step - loss: 1.7277 - accuracy: 0.0977\n",
      "Epoch 3/30\n",
      "27/27 [==============================] - 0s 455us/step - loss: 1.4156 - accuracy: 0.2105\n",
      "Epoch 4/30\n",
      "27/27 [==============================] - 0s 427us/step - loss: 1.1824 - accuracy: 0.3835\n",
      "Epoch 5/30\n",
      "27/27 [==============================] - 0s 463us/step - loss: 0.9637 - accuracy: 0.6015\n",
      "Epoch 6/30\n",
      "27/27 [==============================] - 0s 447us/step - loss: 0.8798 - accuracy: 0.6391\n",
      "Epoch 7/30\n",
      "27/27 [==============================] - 0s 435us/step - loss: 0.8938 - accuracy: 0.5940\n",
      "Epoch 8/30\n",
      "27/27 [==============================] - 0s 426us/step - loss: 0.8321 - accuracy: 0.6316\n",
      "Epoch 9/30\n",
      "27/27 [==============================] - 0s 430us/step - loss: 0.8414 - accuracy: 0.6015\n",
      "Epoch 10/30\n",
      "27/27 [==============================] - 0s 451us/step - loss: 0.8128 - accuracy: 0.5789\n",
      "Epoch 11/30\n",
      "27/27 [==============================] - 0s 441us/step - loss: 0.7570 - accuracy: 0.6541\n",
      "Epoch 12/30\n",
      "27/27 [==============================] - 0s 436us/step - loss: 0.7503 - accuracy: 0.6541\n",
      "Epoch 13/30\n",
      "27/27 [==============================] - 0s 420us/step - loss: 0.7669 - accuracy: 0.6842\n",
      "Epoch 14/30\n",
      "27/27 [==============================] - 0s 460us/step - loss: 0.7495 - accuracy: 0.6917\n",
      "Epoch 15/30\n",
      "27/27 [==============================] - 0s 456us/step - loss: 0.6375 - accuracy: 0.7444\n",
      "Epoch 16/30\n",
      "27/27 [==============================] - 0s 452us/step - loss: 0.5949 - accuracy: 0.7970\n",
      "Epoch 17/30\n",
      "27/27 [==============================] - 0s 445us/step - loss: 0.6086 - accuracy: 0.7820\n",
      "Epoch 18/30\n",
      "27/27 [==============================] - 0s 420us/step - loss: 0.6198 - accuracy: 0.7368\n",
      "Epoch 19/30\n",
      "27/27 [==============================] - 0s 452us/step - loss: 0.7055 - accuracy: 0.7444\n",
      "Epoch 20/30\n",
      "27/27 [==============================] - 0s 451us/step - loss: 0.5957 - accuracy: 0.7820\n",
      "Epoch 21/30\n",
      "27/27 [==============================] - 0s 451us/step - loss: 0.5688 - accuracy: 0.7895\n",
      "Epoch 22/30\n",
      "27/27 [==============================] - 0s 461us/step - loss: 0.5689 - accuracy: 0.7519\n",
      "Epoch 23/30\n",
      "27/27 [==============================] - 0s 448us/step - loss: 0.4814 - accuracy: 0.8496\n",
      "Epoch 24/30\n",
      "27/27 [==============================] - 0s 498us/step - loss: 0.6168 - accuracy: 0.7669\n",
      "Epoch 25/30\n",
      "27/27 [==============================] - 0s 455us/step - loss: 0.5308 - accuracy: 0.8195\n",
      "Epoch 26/30\n",
      "27/27 [==============================] - 0s 447us/step - loss: 0.4796 - accuracy: 0.8421\n",
      "Epoch 27/30\n",
      "27/27 [==============================] - 0s 439us/step - loss: 0.4396 - accuracy: 0.8571\n",
      "Epoch 28/30\n",
      "27/27 [==============================] - 0s 411us/step - loss: 0.4692 - accuracy: 0.7744\n",
      "Epoch 29/30\n",
      "27/27 [==============================] - 0s 469us/step - loss: 0.4545 - accuracy: 0.8271\n",
      "Epoch 30/30\n",
      "27/27 [==============================] - 0s 453us/step - loss: 0.4600 - accuracy: 0.8496\n"
     ]
    }
   ],
   "source": [
    "#신경망 학습\n",
    "hist = model.fit(X_tn,y_tn,epochs=epo,batch_size=5)"
   ]
  },
  {
   "cell_type": "code",
   "execution_count": 17,
   "id": "83e94b46",
   "metadata": {},
   "outputs": [
    {
     "name": "stdout",
     "output_type": "stream",
     "text": [
      "5/5 [==============================] - 0s 627us/step - loss: 0.4503 - accuracy: 0.8647\n",
      "0.8646616339683533\n",
      "2/2 [==============================] - 0s 1ms/step - loss: 0.3303 - accuracy: 0.8889\n",
      "0.8888888955116272\n"
     ]
    }
   ],
   "source": [
    "print(model.evaluate(X_tn,y_tn)[1])\n",
    "print(model.evaluate(X_te,y_te)[1])"
   ]
  },
  {
   "cell_type": "code",
   "execution_count": 19,
   "id": "98a9765d",
   "metadata": {},
   "outputs": [
    {
     "name": "stdout",
     "output_type": "stream",
     "text": [
      "[ 1  2  3  4  5  6  7  8  9 10 11 12 13 14 15 16 17 18 19 20 21 22 23 24\n",
      " 25 26 27 28 29 30]\n",
      "[0.09022556245326996, 0.09774436056613922, 0.21052631735801697, 0.3834586441516876, 0.6015037298202515, 0.6390977501869202, 0.5939849615097046, 0.6315789222717285, 0.6015037298202515, 0.5789473652839661, 0.6541353464126587, 0.6541353464126587, 0.6842105388641357, 0.6917293071746826, 0.7443609237670898, 0.7969924807548523, 0.7819548845291138, 0.7368420958518982, 0.7443609237670898, 0.7819548845291138, 0.7894737124443054, 0.7518796920776367, 0.8496240377426147, 0.7669172883033752, 0.8195488452911377, 0.8421052694320679, 0.8571428656578064, 0.7744361162185669, 0.8270676732063293, 0.8496240377426147]\n",
      "[2.1164824962615967, 1.7276784181594849, 1.4155781269073486, 1.1824314594268799, 0.963664710521698, 0.8798118829727173, 0.8938149213790894, 0.8321142196655273, 0.8413624167442322, 0.8127676248550415, 0.7569577693939209, 0.7503243088722229, 0.7668824791908264, 0.7495436072349548, 0.6375086903572083, 0.5948980450630188, 0.6086457371711731, 0.6198199987411499, 0.7055440545082092, 0.5957421660423279, 0.5687953233718872, 0.5688661932945251, 0.4813916087150574, 0.6167780756950378, 0.5308402180671692, 0.4795643389225006, 0.4396240711212158, 0.4691946506500244, 0.45447200536727905, 0.4600393772125244]\n"
     ]
    }
   ],
   "source": [
    "#정확도 및 손실 정도 시각화\n",
    "import numpy as np\n",
    "epoch = np.arange(1,epo+1) #시각화의 epoch ->전체 트레이닝 세트의 학습 반복 수\n",
    "print(epoch)\n",
    "accuracy = hist.history['accuracy'] #정확도. 점점 오른다\n",
    "print(accuracy)\n",
    "loss=hist.history['loss'] #손실 정도. 점점 낮아진다.\n",
    "print(loss)"
   ]
  },
  {
   "cell_type": "code",
   "execution_count": 23,
   "id": "7e6d7591",
   "metadata": {},
   "outputs": [
    {
     "data": {
      "image/png": "[encoded data removed]",
      "text/plain": [
       "<Figure size 640x480 with 1 Axes>"
      ]
     },
     "metadata": {},
     "output_type": "display_data"
    }
   ],
   "source": [
    "import matplotlib.pyplot as plt\n",
    "plt.plot(epoch,accuracy,label='accuracy')\n",
    "plt.xlabel('epoch')\n",
    "plt.ylabel('accuracy')\n",
    "plt.legend()\n",
    "plt.show()"
   ]
  },
  {
   "cell_type": "code",
   "execution_count": 24,
   "id": "4fecda3f",
   "metadata": {},
   "outputs": [
    {
     "data": {
      "image/png": "[encoded data removed]",
      "text/plain": [
       "<Figure size 640x480 with 1 Axes>"
      ]
     },
     "metadata": {},
     "output_type": "display_data"
    }
   ],
   "source": [
    "import matplotlib.pyplot as plt\n",
    "plt.plot(epoch,loss,'r',label='loss')\n",
    "plt.xlabel('epoch')\n",
    "plt.ylabel('loss')\n",
    "plt.legend()\n",
    "plt.show()"
   ]
  },
  {
   "cell_type": "code",
   "execution_count": null,
   "id": "b3bbcf7f",
   "metadata": {},
   "outputs": [],
   "source": []
  }
 ],
 "metadata": {
  "kernelspec": {
   "display_name": "Python 3 (ipykernel)",
   "language": "python",
   "name": "python3"
  },
  "language_info": {
   "codemirror_mode": {
    "name": "ipython",
    "version": 3
   },
   "file_extension": ".py",
   "mimetype": "text/x-python",
   "name": "python",
   "nbconvert_exporter": "python",
   "pygments_lexer": "ipython3",
   "version": "3.8.18"
  }
 },
 "nbformat": 4,
 "nbformat_minor": 5
}
