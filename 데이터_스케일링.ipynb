{
 "cells": [
  {
   "cell_type": "code",
   "execution_count": 18,
   "metadata": {},
   "outputs": [],
   "source": [
    "import numpy as np\n",
    "#수학적 계산 관련 함수 제공\n",
    "import pandas as pd\n",
    "#데이터를 데이터 프레임 형식으로 다루는 라이브러리. 데이터 이용시 필수\n",
    "import seaborn as sns\n",
    "#시각화 1 더 화려함\n",
    "import matplotlib.pyplot as plt\n",
    "#시각화 2 덜 화려함\n",
    "from sklearn import datasets\n",
    "#사이킷런에서 제공하는 다양한 데이터를 이용 가능"
   ]
  },
  {
   "cell_type": "code",
   "execution_count": 19,
   "metadata": {},
   "outputs": [],
   "source": [
    "#키가 175이고 몸무게가 65이면 키는 cm, 몸무게는 kg으로 단위가 달라 비교가 어렵다\n",
    "#데이터 스케일링을 통해 피처 데이터가 단위에 영향을 받지 않도록 하자\n",
    "#평균, 분산, 최댓값, 최솟값 등을 이용해서 데이터 스케일링을 취함"
   ]
  },
  {
   "cell_type": "code",
   "execution_count": 32,
   "metadata": {},
   "outputs": [
    {
     "data": {
      "text/html": [
       "<div>\n",
       "<style scoped>\n",
       "    .dataframe tbody tr th:only-of-type {\n",
       "        vertical-align: middle;\n",
       "    }\n",
       "\n",
       "    .dataframe tbody tr th {\n",
       "        vertical-align: top;\n",
       "    }\n",
       "\n",
       "    .dataframe thead th {\n",
       "        text-align: right;\n",
       "    }\n",
       "</style>\n",
       "<table border=\"1\" class=\"dataframe\">\n",
       "  <thead>\n",
       "    <tr style=\"text-align: right;\">\n",
       "      <th></th>\n",
       "      <th>age</th>\n",
       "      <th>gender</th>\n",
       "      <th>month_birth</th>\n",
       "      <th>hobby</th>\n",
       "      <th>target</th>\n",
       "    </tr>\n",
       "  </thead>\n",
       "  <tbody>\n",
       "    <tr>\n",
       "      <th>0</th>\n",
       "      <td>42.0</td>\n",
       "      <td>male</td>\n",
       "      <td>12.0</td>\n",
       "      <td>reading</td>\n",
       "      <td>1</td>\n",
       "    </tr>\n",
       "    <tr>\n",
       "      <th>1</th>\n",
       "      <td>35.0</td>\n",
       "      <td>U</td>\n",
       "      <td>3.0</td>\n",
       "      <td>cooking</td>\n",
       "      <td>0</td>\n",
       "    </tr>\n",
       "    <tr>\n",
       "      <th>2</th>\n",
       "      <td>0.0</td>\n",
       "      <td>female</td>\n",
       "      <td>7.0</td>\n",
       "      <td>cycling</td>\n",
       "      <td>2</td>\n",
       "    </tr>\n",
       "    <tr>\n",
       "      <th>3</th>\n",
       "      <td>0.0</td>\n",
       "      <td>U</td>\n",
       "      <td>0.0</td>\n",
       "      <td>U</td>\n",
       "      <td>3</td>\n",
       "    </tr>\n",
       "  </tbody>\n",
       "</table>\n",
       "</div>"
      ],
      "text/plain": [
       "    age  gender  month_birth    hobby  target\n",
       "0  42.0    male         12.0  reading       1\n",
       "1  35.0       U          3.0  cooking       0\n",
       "2   0.0  female          7.0  cycling       2\n",
       "3   0.0       U          0.0        U       3"
      ]
     },
     "execution_count": 32,
     "metadata": {},
     "output_type": "execute_result"
    }
   ],
   "source": [
    "df = pd.DataFrame([\n",
    "    [42,'male',12,'reading','class2'],\n",
    "    [35,'unknown',3,'cooking','class1'],\n",
    "    [1000,'female',7,'cycling','class3'],\n",
    "    [1000,'unknown',21,'unknown','unknown']\n",
    "])\n",
    "df.columns = ['age','gender','month_birth','hobby','target']\n",
    "df.loc[df['age']>110,['age']]=np.nan\n",
    "df.loc[df['gender']=='unknown',['gender']]=np.nan\n",
    "df.loc[df['month_birth']>12,['month_birth']]=np.nan\n",
    "df.loc[df['hobby']=='unknown',['hobby']]=np.nan\n",
    "df.loc[df['target']=='unknown',['target']]=np.nan\n",
    "df\n",
    "alter_values = {'age' : 0,    \n",
    "                'gender':'U',        \n",
    "                'month_birth':0,            \n",
    "                'hobby':'U',                \n",
    "                'target':'class4'}\n",
    "df7=df.fillna(value=alter_values) \n",
    "from sklearn.preprocessing import LabelEncoder #라벨링 함수\n",
    "df8 = df7\n",
    "class_label = LabelEncoder()#라벨링 모형 설정\n",
    "data_value = df8['target'].values#타깃 변수 값 불러오기\n",
    "y_new = class_label.fit_transform(data_value)#데이터 값 변환\n",
    "df8['target']=y_new #덮어쓰기\n",
    "df8"
   ]
  },
  {
   "cell_type": "code",
   "execution_count": 43,
   "metadata": {},
   "outputs": [
    {
     "ename": "SyntaxError",
     "evalue": "invalid syntax (3163024558.py, line 1)",
     "output_type": "error",
     "traceback": [
      "\u001b[0;36m  Cell \u001b[0;32mIn[43], line 1\u001b[0;36m\u001b[0m\n\u001b[0;31m    여기에선 fit, transform이 나오는데\u001b[0m\n\u001b[0m         ^\u001b[0m\n\u001b[0;31mSyntaxError\u001b[0m\u001b[0;31m:\u001b[0m invalid syntax\n"
     ]
    }
   ],
   "source": [
    "여기에선 fit, transform이 나오는데\n",
    "1. fit : 주어진 데이터를 사용해서 스케일러의 파라미터를 학습함\n",
    "    즉, 데이터에서 각자가 원하는 정보 (std : 평균, 표준편차)(robust : 중위수, 사분위수)...를 추출해서 스케일링에 사용할 준비를 마침\n",
    "2. transform : fit 메서드로 학습된 파라미터들을 이용해서 데이터를 스케일링함\n",
    "    \n",
    "정리하면, fit으로 스케일링 준비를 하고, transform으로 실제로 스케일링을 진행하게 된다."
   ]
  },
  {
   "cell_type": "code",
   "execution_count": null,
   "metadata": {},
   "outputs": [],
   "source": [
    "# 표준화 스케일링\n",
    "##데이터가 평균 0, 표준 편차가 1이 되도록 변경하는 방법\n",
    "###(기존 데이터 - 평균) / 표준편차\n",
    "from sklearn.preprocessing import StandardScaler\n",
    "\n",
    "std = StandardScaler() \n",
    "std.fit(df8[['month_birth']]) #표준화 스케일러에 month_birth열을 적합\n",
    "x_std = std.transform(df8[['month_birth']]) #적합된 스케일러를 기준으로 month_birth를 변형"
   ]
  },
  {
   "cell_type": "code",
   "execution_count": 34,
   "metadata": {},
   "outputs": [
    {
     "data": {
      "text/plain": [
       "array([[ 1.44444444],\n",
       "       [-0.55555556],\n",
       "       [ 0.33333333],\n",
       "       [-1.22222222]])"
      ]
     },
     "execution_count": 34,
     "metadata": {},
     "output_type": "execute_result"
    }
   ],
   "source": [
    "#std.fit(df8[['month_birth']])\n",
    "#x_std = std.transform(df8[['month_birth']])\n",
    "#는 다음 코드와 똑같음\n",
    "x_std2=std.fit_transform(df8[['month_birth']])\n",
    "x_std2"
   ]
  },
  {
   "cell_type": "code",
   "execution_count": 37,
   "metadata": {},
   "outputs": [
    {
     "data": {
      "text/plain": [
       "-5.551115123125783e-17"
      ]
     },
     "execution_count": 37,
     "metadata": {},
     "output_type": "execute_result"
    }
   ],
   "source": [
    "np.mean(x_std) #컴퓨터에서 부동 소수점 연산의 한계 때문에 발생하는 것이기 때문에, 정확한 0을 얻기는 어려울 수 있습니다.라는데 흠.."
   ]
  },
  {
   "cell_type": "code",
   "execution_count": 38,
   "metadata": {},
   "outputs": [
    {
     "data": {
      "text/plain": [
       "1.0"
      ]
     },
     "execution_count": 38,
     "metadata": {},
     "output_type": "execute_result"
    }
   ],
   "source": [
    "np.std(x_std)"
   ]
  },
  {
   "cell_type": "code",
   "execution_count": 40,
   "metadata": {},
   "outputs": [
    {
     "data": {
      "text/plain": [
       "array([[ 1.16666667],\n",
       "       [-0.33333333],\n",
       "       [ 0.33333333],\n",
       "       [-0.83333333]])"
      ]
     },
     "execution_count": 40,
     "metadata": {},
     "output_type": "execute_result"
    }
   ],
   "source": [
    "#로버스트 스케일링\n",
    "##표준화 스케일을 변형한 방법\n",
    "###중앙값 사분위수를 사용. 극단값의 영향을 거의 받지 않음\n",
    "#### (값 - 중위수) / (3사분위수 - 1사부위수)\n",
    "from sklearn.preprocessing import RobustScaler\n",
    "robust = RobustScaler()\n",
    "robust.fit(df8[['month_birth']]) #스케일링대상인 데이터 프레임의 열을 적합\n",
    "x_robust = robust.transform (df8[['month_birth']]) #적합된 스케일러를 기반으로 값 변환, 결과 확인\n",
    "x_robust"
   ]
  },
  {
   "cell_type": "code",
   "execution_count": 41,
   "metadata": {},
   "outputs": [
    {
     "data": {
      "text/plain": [
       "array([[1.        ],\n",
       "       [0.25      ],\n",
       "       [0.58333333],\n",
       "       [0.        ]])"
      ]
     },
     "execution_count": 41,
     "metadata": {},
     "output_type": "execute_result"
    }
   ],
   "source": [
    "#최소-최대 스케일링\n",
    "##데이터값의 최댓값이 1, 최솟값 0으로 데이터 값이 가질 수 있는 범위를 제한함\n",
    "###x-min(x)/max(x)-min(x)\n",
    "from sklearn.preprocessing import MinMaxScaler\n",
    "\n",
    "minmax = MinMaxScaler()\n",
    "minmax.fit(df8[['month_birth']]) #적합\n",
    "x_minmax=minmax.transform(df8[['month_birth']]) #적합된 스케일러로 데이터 변경\n",
    "x_minmax"
   ]
  },
  {
   "cell_type": "code",
   "execution_count": 42,
   "metadata": {},
   "outputs": [
    {
     "data": {
      "text/plain": [
       "array([[0.96152395, 0.27472113],\n",
       "       [0.99634665, 0.08540114],\n",
       "       [0.        , 1.        ],\n",
       "       [0.        , 0.        ]])"
      ]
     },
     "execution_count": 42,
     "metadata": {},
     "output_type": "execute_result"
    }
   ],
   "source": [
    "#노멀 스케일링(normalization)\n",
    "##벡터의 유클리디안 길이(벡터 크기)가 1이 되도록 데이터 값을 변경\n",
    "###벡터 크기는 관심 x, 방향만 고려할 때 사용\n",
    "####앞선 스케일러들과 달리 row 기준\n",
    "from sklearn.preprocessing import Normalizer\n",
    "normal = Normalizer()\n",
    "normal.fit(df8[['age','month_birth']]) #피처들을 정하고 적합.\n",
    "x_normal = normal.transform(df8[['age','month_birth']]) #변경\n",
    "x_normal"
   ]
  },
  {
   "cell_type": "code",
   "execution_count": null,
   "metadata": {},
   "outputs": [],
   "source": [
    "#표준화 스케일링\n",
    "from sklearn.preprocessing import StandardScaler #표준화 스케일러라고 가정\n",
    "\n",
    "stand_scale = StandardScaler() \n",
    "x_train_std = stand_scale.fit_transform(x_train) #적합된 스케일러로 x_train 데이터 변경\n",
    "x_test_std = stand_scale.transform(x_test) #fit <- 적합시키겠다인데, test는 train에 적합되어있는 스케일러를 사용하기 때문에 변경만 한다."
   ]
  }
 ],
 "metadata": {
  "colab": {
   "authorship_tag": "ABX9TyNtWkHHEfuR/+OeCYEhEAuh",
   "provenance": []
  },
  "kernelspec": {
   "display_name": "Python 3 (ipykernel)",
   "language": "python",
   "name": "python3"
  },
  "language_info": {
   "codemirror_mode": {
    "name": "ipython",
    "version": 3
   },
   "file_extension": ".py",
   "mimetype": "text/x-python",
   "name": "python",
   "nbconvert_exporter": "python",
   "pygments_lexer": "ipython3",
   "version": "3.8.17"
  }
 },
 "nbformat": 4,
 "nbformat_minor": 1
}
