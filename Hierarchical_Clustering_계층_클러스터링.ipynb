{
 "cells": [
  {
   "cell_type": "code",
   "execution_count": 2,
   "id": "a98a95a7",
   "metadata": {},
   "outputs": [],
   "source": [
    "from sklearn.datasets import make_blobs\n",
    "X, y = make_blobs(n_samples=10,\n",
    "                 n_features=2,\n",
    "                 random_state=0)"
   ]
  },
  {
   "cell_type": "code",
   "execution_count": 4,
   "id": "f5824264",
   "metadata": {},
   "outputs": [
    {
     "name": "stdout",
     "output_type": "stream",
     "text": [
      "(10, 2)\n",
      "(10,)\n"
     ]
    }
   ],
   "source": [
    "print(X.shape)\n",
    "print(y.shape)"
   ]
  },
  {
   "cell_type": "code",
   "execution_count": 5,
   "id": "a56d8187",
   "metadata": {},
   "outputs": [
    {
     "name": "stdout",
     "output_type": "stream",
     "text": [
      "[8 9 6 4 5 2 7 3 1 0]\n"
     ]
    }
   ],
   "source": [
    "#병합 계층 클러스터링\n",
    "from sklearn.cluster import AgglomerativeClustering\n",
    "aggc = AgglomerativeClustering(n_clusters = None, #구하려는 클러스터 개수. 각 데이터 포인트가 하나의 클러스터를 구성하는 단계를 확인하기 위해 None 설정\n",
    "                              distance_threshold=0, # n_clusters = None을 위해서 거리를 0으로 설정\n",
    "                              linkage='complete')\n",
    "label_aggc = aggc.fit_predict(X)#predict만 제공하지 않아서 fit_predict를 사용. 이는 적합 후 예측임\n",
    "print(label_aggc)"
   ]
  },
  {
   "cell_type": "code",
   "execution_count": 7,
   "id": "45797e76",
   "metadata": {},
   "outputs": [
    {
     "name": "stdout",
     "output_type": "stream",
     "text": [
      "[0 0 0 0 0 0 1 0 0 0]\n"
     ]
    }
   ],
   "source": [
    "#2개로 병합\n",
    "aggc2 =AgglomerativeClustering(n_clusters=2,\n",
    "                              linkage='complete')\n",
    "label_aggc2 = aggc2.fit_predict(X)\n",
    "print(label_aggc2)"
   ]
  },
  {
   "cell_type": "code",
   "execution_count": 8,
   "id": "ee554601",
   "metadata": {},
   "outputs": [
    {
     "name": "stdout",
     "output_type": "stream",
     "text": [
      "[0 0 2 0 0 0 1 2 2 0]\n"
     ]
    }
   ],
   "source": [
    "#3개로 병합\n",
    "aggc3 =AgglomerativeClustering(n_clusters=3,\n",
    "                              linkage='complete')\n",
    "label_aggc3 = aggc3.fit_predict(X)\n",
    "print(label_aggc3)"
   ]
  },
  {
   "cell_type": "code",
   "execution_count": 9,
   "id": "6fbdefbc",
   "metadata": {},
   "outputs": [
    {
     "data": {
      "image/png": "[encoded data removed]",
      "text/plain": [
       "<Figure size 640x480 with 1 Axes>"
      ]
     },
     "metadata": {},
     "output_type": "display_data"
    }
   ],
   "source": [
    "#덴드로그램\n",
    "from scipy.cluster.hierarchy import dendrogram\n",
    "from scipy.cluster.hierarchy import linkage\n",
    "import matplotlib.pyplot as plt\n",
    "\n",
    "linked = linkage(X,'complete')\n",
    "labels = label_aggc\n",
    "dendrogram(linked,\n",
    "          orientation='top',\n",
    "          labels=labels,\n",
    "          show_leaf_counts=True)\n",
    "plt.show()"
   ]
  },
  {
   "cell_type": "code",
   "execution_count": null,
   "id": "0629d9eb",
   "metadata": {},
   "outputs": [],
   "source": []
  }
 ],
 "metadata": {
  "kernelspec": {
   "display_name": "Python 3 (ipykernel)",
   "language": "python",
   "name": "python3"
  },
  "language_info": {
   "codemirror_mode": {
    "name": "ipython",
    "version": 3
   },
   "file_extension": ".py",
   "mimetype": "text/x-python",
   "name": "python",
   "nbconvert_exporter": "python",
   "pygments_lexer": "ipython3",
   "version": "3.8.18"
  }
 },
 "nbformat": 4,
 "nbformat_minor": 5
}
