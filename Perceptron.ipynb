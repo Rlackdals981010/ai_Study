{
 "cells": [
  {
   "cell_type": "code",
   "execution_count": 1,
   "id": "9491337d",
   "metadata": {},
   "outputs": [],
   "source": [
    "#레몬 포도 분류기\n",
    "import numpy as np"
   ]
  },
  {
   "cell_type": "code",
   "execution_count": 3,
   "id": "9d290008",
   "metadata": {},
   "outputs": [
    {
     "name": "stdout",
     "output_type": "stream",
     "text": [
      "[[2 3]\n",
      " [5 1]]\n",
      "[2 3 5 1]\n"
     ]
    }
   ],
   "source": [
    "#입력층\n",
    "input_data = np.array([[2,3],[5,1]])#2행 2열\n",
    "print(input_data)\n",
    "x = input_data.reshape(-1) #벡터화\n",
    "print(x)"
   ]
  },
  {
   "cell_type": "code",
   "execution_count": 5,
   "id": "2de1445b",
   "metadata": {},
   "outputs": [],
   "source": [
    "#가중치 및 편향\n",
    "w1 = np.array([2,1,-3,3]) #레몬 점수 가중치 벡터 \n",
    "w2 = np.array([1,-3,1,3]) #포도 점수 가중치 벡터 \n",
    "b1 = 3                    #레몬 점수 편향\n",
    "b2 = 3                    #포도 점수 편향"
   ]
  },
  {
   "cell_type": "code",
   "execution_count": 9,
   "id": "4c5df5ce",
   "metadata": {},
   "outputs": [
    {
     "name": "stdout",
     "output_type": "stream",
     "text": [
      "[[ 2  1 -3  3]\n",
      " [ 1 -3  1  3]]\n",
      "[3 3]\n",
      "[-2  4]\n"
     ]
    }
   ],
   "source": [
    "#가중합 <- 위에서 구한 가중치 및 편향으로 구하기\n",
    "W = np.array([w1,w2]) #가중치 행렬 = 가중치 벡터들의 합\n",
    "print(W) #2행 2열+2행 2열 = 2행 4열\n",
    "b = np.array([b1,b2]) # 편향 벡터 = 편향 점수의 합\n",
    "print(b) \n",
    "weight_sum = np.dot(W,x)+b #행렬곱 + 편향벡터 = 가중합\n",
    "print(weight_sum)"
   ]
  },
  {
   "cell_type": "code",
   "execution_count": 10,
   "id": "00867c16",
   "metadata": {},
   "outputs": [
    {
     "name": "stdout",
     "output_type": "stream",
     "text": [
      "[0.11920292 0.98201379]\n"
     ]
    }
   ],
   "source": [
    "#출력층\n",
    "res = 1/(1+np.exp(-weight_sum)) #시그모이드를 활성화 함수로 사용\n",
    "print(res)"
   ]
  },
  {
   "cell_type": "code",
   "execution_count": null,
   "id": "2a5e7e1c",
   "metadata": {},
   "outputs": [],
   "source": []
  }
 ],
 "metadata": {
  "kernelspec": {
   "display_name": "Python 3 (ipykernel)",
   "language": "python",
   "name": "python3"
  },
  "language_info": {
   "codemirror_mode": {
    "name": "ipython",
    "version": 3
   },
   "file_extension": ".py",
   "mimetype": "text/x-python",
   "name": "python",
   "nbconvert_exporter": "python",
   "pygments_lexer": "ipython3",
   "version": "3.8.18"
  }
 },
 "nbformat": 4,
 "nbformat_minor": 5
}
