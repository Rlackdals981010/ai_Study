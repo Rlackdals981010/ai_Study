{
 "cells": [
  {
   "cell_type": "code",
   "execution_count": 1,
   "id": "acf483f4",
   "metadata": {},
   "outputs": [],
   "source": [
    "import numpy as np\n",
    "import tensorflow as tf\n",
    "np.random.seed(0)\n",
    "tf.random.set_seed(0)"
   ]
  },
  {
   "cell_type": "code",
   "execution_count": 4,
   "id": "5eeed8e6",
   "metadata": {},
   "outputs": [],
   "source": [
    "from tensorflow.keras import datasets\n",
    "(X_tn0,y_tn0),(X_te0,y_te0) =datasets.mnist.load_data()#첫번째 버전이라 0"
   ]
  },
  {
   "cell_type": "code",
   "execution_count": 5,
   "id": "aa85fe37",
   "metadata": {},
   "outputs": [
    {
     "name": "stdout",
     "output_type": "stream",
     "text": [
      "(60000, 28, 28)\n",
      "(60000,)\n",
      "(10000, 28, 28)\n",
      "(10000,)\n"
     ]
    }
   ],
   "source": [
    "print(X_tn0.shape)\n",
    "print(y_tn0.shape)\n",
    "print(X_te0.shape)\n",
    "print(y_te0.shape)"
   ]
  },
  {
   "cell_type": "code",
   "execution_count": 9,
   "id": "e3176695",
   "metadata": {},
   "outputs": [
    {
     "data": {
      "image/png": "[encoded data removed]",
      "text/plain": [
       "<Figure size 1000x500 with 10 Axes>"
      ]
     },
     "metadata": {},
     "output_type": "display_data"
    }
   ],
   "source": [
    "#오리지널 시각화\n",
    "import matplotlib.pyplot as plt\n",
    "plt.figure(figsize=(10,5))\n",
    "for i in range(2*5):\n",
    "    plt.subplot(2,5,i+1)\n",
    "    plt.imshow(X_tn0[i].reshape((28,28)),cmap='Greys')\n",
    "plt.show()\n",
    "    "
   ]
  },
  {
   "cell_type": "code",
   "execution_count": 10,
   "id": "99b16c1c",
   "metadata": {},
   "outputs": [
    {
     "data": {
      "text/plain": [
       "{0, 1, 2, 3, 4, 5, 6, 7, 8, 9}"
      ]
     },
     "execution_count": 10,
     "metadata": {},
     "output_type": "execute_result"
    }
   ],
   "source": [
    "set(y_tn0)#타깃 확인"
   ]
  },
  {
   "cell_type": "code",
   "execution_count": 14,
   "id": "8973973e",
   "metadata": {},
   "outputs": [
    {
     "name": "stdout",
     "output_type": "stream",
     "text": [
      "(60000, 28, 28, 1)\n",
      "(10000, 28, 28, 1)\n"
     ]
    }
   ],
   "source": [
    "X_tn_re=X_tn0.reshape(60000,28,28,1)#원래 이미지 개수, 행, 열 형태던 오리지널 데이터를 이미지 개수, 행, 열, 채널 수로 바꿔준다. (채널: RGB)\n",
    "X_tn = X_tn_re/255 #이미지 픽셀 값의 최댓값이 1이 되면 성능이 좋음\n",
    "print(X_tn.shape)\n",
    "X_te_re=X_te0.reshape(10000,28,28,1)\n",
    "X_te = X_te_re/255\n",
    "print(X_te.shape)"
   ]
  },
  {
   "cell_type": "code",
   "execution_count": 16,
   "id": "5ebd58f3",
   "metadata": {},
   "outputs": [],
   "source": [
    "from tensorflow.keras.utils import to_categorical\n",
    "y_tn = to_categorical(y_tn0)\n",
    "y_te = to_categorical(y_te0)"
   ]
  },
  {
   "cell_type": "code",
   "execution_count": 20,
   "id": "c79fd18b",
   "metadata": {},
   "outputs": [
    {
     "name": "stdout",
     "output_type": "stream",
     "text": [
      "Model: \"sequential_2\"\n",
      "_________________________________________________________________\n",
      " Layer (type)                Output Shape              Param #   \n",
      "=================================================================\n",
      " conv2d_2 (Conv2D)           (None, 24, 24, 32)        832       \n",
      "                                                                 \n",
      " max_pooling2d_1 (MaxPooling  (None, 12, 12, 32)       0         \n",
      " 2D)                                                             \n",
      "                                                                 \n",
      " dropout_1 (Dropout)         (None, 12, 12, 32)        0         \n",
      "                                                                 \n",
      " conv2d_3 (Conv2D)           (None, 10, 10, 32)        9248      \n",
      "                                                                 \n",
      " max_pooling2d_2 (MaxPooling  (None, 5, 5, 32)         0         \n",
      " 2D)                                                             \n",
      "                                                                 \n",
      " dropout_2 (Dropout)         (None, 5, 5, 32)          0         \n",
      "                                                                 \n",
      " flatten (Flatten)           (None, 800)               0         \n",
      "                                                                 \n",
      " dense (Dense)               (None, 1024)              820224    \n",
      "                                                                 \n",
      " dropout_3 (Dropout)         (None, 1024)              0         \n",
      "                                                                 \n",
      " dense_1 (Dense)             (None, 10)                10250     \n",
      "                                                                 \n",
      "=================================================================\n",
      "Total params: 840,554\n",
      "Trainable params: 840,554\n",
      "Non-trainable params: 0\n",
      "_________________________________________________________________\n"
     ]
    }
   ],
   "source": [
    "#CNN 생성\n",
    "from tensorflow.keras.models import Sequential\n",
    "from tensorflow.keras.layers import Dense, Conv2D\n",
    "from tensorflow.keras.layers import MaxPool2D, Flatten\n",
    "from tensorflow.keras.layers import Dropout\n",
    "\n",
    "n_class = len(set(y_tn0)) #클래스 개수 설정\n",
    "\n",
    "model = Sequential()\n",
    "model.add(Conv2D(32,kernel_size=(5,5),       #입력층. (아웃풋 데이터 차원(이미지 데이터 32개, 커널 사이즈, \n",
    "                input_shape=(28,28,1),       #인풋 데이터 차원= X_tn.shape의 행,열,채널\n",
    "                padding='valid',             #패딩 옵션 선택 valid, same중 선택인데 vaild는 패딩 미실시, same은 패딩 실시로 입력 데이터와 동일하게 조정하겠다는 것\n",
    "                activation='relu'))          #활성함수 relu\n",
    "\n",
    "model.add(MaxPool2D(pool_size=(2,2)))        #다음층. 맥스폴링, 사이즈 지정\n",
    "\n",
    "model.add(Dropout(0.25))                     # 드롭아웃. 입력되는 숫자는 사용하지 않은 노드의 비율\n",
    "\n",
    "model.add(Conv2D(32,kernel_size=(3,3), \n",
    "                padding='valid',\n",
    "                activation='relu'))\n",
    "\n",
    "model.add(MaxPool2D(pool_size=(2,2)))\n",
    "\n",
    "model.add(Dropout(0.25))\n",
    "\n",
    "model.add(Flatten())                          # 최종 아웃풋 형태를 고려해 행렬 형태의 데이터를 Flatten을 이용하여 벡터 형태로 펼침\n",
    "\n",
    "model.add(Dense(1024,activation='relu'))      #신경망 층 추가\n",
    "\n",
    "model.add(Dropout(0.5))                       #드롭아웃\n",
    "\n",
    "model.add(Dense(n_class,activation='softmax'))#활성화 함수를 소프트맥스 -> 최종 출력층\n",
    "\n",
    "model.summary()"
   ]
  },
  {
   "cell_type": "code",
   "execution_count": 21,
   "id": "3f6fecbe",
   "metadata": {},
   "outputs": [],
   "source": [
    "#모형 컴파일\n",
    "model.compile(loss='categorical_crossentropy', #다중 분류 이므로 손실 함수 loss는 categorical_crossentropy\n",
    "             optimizer='adam',                 #옵티마이저는 adam\n",
    "             metrics=['accuracy'])             #모형의 성능 평가는 accuracy"
   ]
  },
  {
   "cell_type": "code",
   "execution_count": 22,
   "id": "745ec213",
   "metadata": {},
   "outputs": [
    {
     "name": "stdout",
     "output_type": "stream",
     "text": [
      "Epoch 1/3\n"
     ]
    },
    {
     "name": "stderr",
     "output_type": "stream",
     "text": [
      "2024-01-24 17:00:50.058233: W tensorflow/tsl/platform/profile_utils/cpu_utils.cc:128] Failed to get CPU frequency: 0 Hz\n"
     ]
    },
    {
     "name": "stdout",
     "output_type": "stream",
     "text": [
      "600/600 [==============================] - 11s 18ms/step - loss: 0.2173 - accuracy: 0.9327\n",
      "Epoch 2/3\n",
      "600/600 [==============================] - 12s 20ms/step - loss: 0.0720 - accuracy: 0.9781\n",
      "Epoch 3/3\n",
      "600/600 [==============================] - 12s 20ms/step - loss: 0.0566 - accuracy: 0.9819\n"
     ]
    }
   ],
   "source": [
    "#학습\n",
    "hist = model.fit(X_tn,y_tn,epochs=3,batch_size=100)"
   ]
  },
  {
   "cell_type": "code",
   "execution_count": 24,
   "id": "b49ec6d2",
   "metadata": {},
   "outputs": [
    {
     "name": "stdout",
     "output_type": "stream",
     "text": [
      "1875/1875 [==============================] - 7s 4ms/step - loss: 0.0243 - accuracy: 0.9926\n",
      "0.9926499724388123\n",
      "313/313 [==============================] - 1s 3ms/step - loss: 0.0249 - accuracy: 0.9921\n",
      "0.9921000003814697\n"
     ]
    }
   ],
   "source": [
    "print(model.evaluate(X_tn,y_tn)[1]) #[0]은 손실, [1]은 정확도...\n",
    "print(model.evaluate(X_te,y_te)[1])"
   ]
  },
  {
   "cell_type": "code",
   "execution_count": 27,
   "id": "712aa0c4",
   "metadata": {},
   "outputs": [
    {
     "name": "stdout",
     "output_type": "stream",
     "text": [
      "313/313 [==============================] - 1s 3ms/step\n",
      "[4.6589639e-09 1.5437877e-07 6.3578909e-07 1.9061890e-05 3.0016225e-09\n",
      " 2.3725425e-08 7.9274044e-12 9.9997354e-01 1.2668393e-07 6.3881066e-06]\n",
      "[7 2 1 ... 4 5 6]\n"
     ]
    }
   ],
   "source": [
    "#오답 데이터 확인\n",
    "y_pred_hot=model.predict(X_te)\n",
    "print(y_pred_hot[0])\n",
    "\n",
    "import numpy as np\n",
    "y_pred=np.argmax(y_pred_hot,axis=1)#원 핫 인코딩을 통해 라벨링 된 타겟들을 원본 숫자 형태로 바꿈\n",
    "print(y_pred)\n",
    "\n",
    "diff=y_te0-y_pred #예측값과 실제값의 차이를 구함\n",
    "diff_idx=[]       #실젯값과 예측값의 차이가 0이 아닌 인덱스를 저장할 용도.\n",
    "y_len=len(y_te0)\n",
    "for i in range(0,y_len):\n",
    "    if(diff[i]!=0):\n",
    "        diff_idx.append(i)"
   ]
  },
  {
   "cell_type": "code",
   "execution_count": 28,
   "id": "8cc1f246",
   "metadata": {},
   "outputs": [
    {
     "data": {
      "image/png": "[encoded data removed]",
      "text/plain": [
       "<Figure size 1000x500 with 10 Axes>"
      ]
     },
     "metadata": {},
     "output_type": "display_data"
    }
   ],
   "source": [
    "#오답 데이터 시각화\n",
    "import matplotlib.pyplot as plt\n",
    "plt.figure(figsize=(10,5))\n",
    "for i in range(2*5):\n",
    "    plt.subplot(2,5,i+1)\n",
    "    raw_idx = diff_idx[i]\n",
    "    plt.imshow(X_te0[raw_idx].reshape((28,28)),\n",
    "              cmap='Greys')\n",
    "plt.show()"
   ]
  },
  {
   "cell_type": "code",
   "execution_count": null,
   "id": "ca2d726f",
   "metadata": {},
   "outputs": [],
   "source": []
  }
 ],
 "metadata": {
  "kernelspec": {
   "display_name": "Python 3 (ipykernel)",
   "language": "python",
   "name": "python3"
  },
  "language_info": {
   "codemirror_mode": {
    "name": "ipython",
    "version": 3
   },
   "file_extension": ".py",
   "mimetype": "text/x-python",
   "name": "python",
   "nbconvert_exporter": "python",
   "pygments_lexer": "ipython3",
   "version": "3.8.18"
  }
 },
 "nbformat": 4,
 "nbformat_minor": 5
}
