{
 "cells": [
  {
   "cell_type": "code",
   "execution_count": 3,
   "metadata": {},
   "outputs": [],
   "source": [
    "import numpy as np\n",
    "#수학적 계산 관련 함수 제공\n",
    "import pandas as pd\n",
    "#데이터를 데이터 프레임 형식으로 다루는 라이브러리. 데이터 이용시 필수\n",
    "import seaborn as sns\n",
    "#시각화 1 더 화려함\n",
    "import matplotlib.pyplot as plt\n",
    "#시각화 2 덜 화려함\n",
    "from sklearn import datasets\n",
    "#사이킷런에서 제공하는 다양한 데이터를 이용 가능"
   ]
  },
  {
   "cell_type": "code",
   "execution_count": 1,
   "metadata": {},
   "outputs": [
    {
     "ename": "ImportError",
     "evalue": "cannot import name 'StandardScaler' from 'sklearn' (/Users/kcm/anaconda3/envs/ml/lib/python3.8/site-packages/sklearn/__init__.py)",
     "output_type": "error",
     "traceback": [
      "\u001b[0;31m---------------------------------------------------------------------------\u001b[0m",
      "\u001b[0;31mImportError\u001b[0m                               Traceback (most recent call last)",
      "Cell \u001b[0;32mIn[1], line 4\u001b[0m\n\u001b[1;32m      1\u001b[0m \u001b[38;5;66;03m#표준화 스케일링\u001b[39;00m\n\u001b[1;32m      2\u001b[0m \u001b[38;5;66;03m##X_tn = train 데이터\u001b[39;00m\n\u001b[1;32m      3\u001b[0m \u001b[38;5;66;03m##X_te = test 데이터\u001b[39;00m\n\u001b[0;32m----> 4\u001b[0m \u001b[38;5;28;01mfrom\u001b[39;00m \u001b[38;5;21;01msklearn\u001b[39;00m \u001b[38;5;28;01mimport\u001b[39;00m StandardScaler\n\u001b[1;32m      5\u001b[0m std_scale \u001b[38;5;241m=\u001b[39m StandardScaler()\n\u001b[1;32m      6\u001b[0m X_tn_std \u001b[38;5;241m=\u001b[39m std\u001b[38;5;241m.\u001b[39mscale\u001b[38;5;241m.\u001b[39mfit_transform(X_tn) \u001b[38;5;66;03m#데이터 표준화 (평균, 표준편차 세팅)\u001b[39;00m\n",
      "\u001b[0;31mImportError\u001b[0m: cannot import name 'StandardScaler' from 'sklearn' (/Users/kcm/anaconda3/envs/ml/lib/python3.8/site-packages/sklearn/__init__.py)"
     ]
    }
   ],
   "source": [
    "#표준화 스케일링\n",
    "##X_tn = train 데이터\n",
    "##X_te = test 데이터\n",
    "from sklearn import StandardScaler\n",
    "std_scale = StandardScaler()\n",
    "X_tn_std = std.scale.fit_transform(X_tn) #데이터 표준화 (평균, 표준편차 세팅)\n",
    "Y_tn_std = std.scale.transform(X_te) #데이터 표준화 (파라미터 이용해서)\n",
    "\n",
    "#학습\n",
    "from sklearn.linear_model import LinearRegression\n",
    "clf_linear = LinearRegression()\n",
    "clf_linea.fit(X_tn_std,Y_tn_std)\n",
    "###################################################################\n",
    "#파이프라인 이용시\n",
    "from sklearn.pipeline import PipeLine\n",
    "linear_pipeline = Pipeline([\n",
    "    ('scaler',StandardScaler()),\n",
    "    ('linear_regression',LinearRegression())\n",
    "])\n",
    "\n",
    "#학습\n",
    "linear_pipeline.fit(X_tn,X_te) #자동으로 표준화하고, 모형(여기선 선형모델)실행"
   ]
  },
  {
   "cell_type": "code",
   "execution_count": 8,
   "metadata": {},
   "outputs": [
    {
     "name": "stderr",
     "output_type": "stream",
     "text": [
      "/Users/kcm/anaconda3/envs/ml/lib/python3.8/site-packages/sklearn/datasets/_openml.py:303: UserWarning: Multiple active versions of the dataset matching the name boston exist. Versions may be fundamentally different, returning version 1.\n",
      "  warn(\n",
      "/Users/kcm/anaconda3/envs/ml/lib/python3.8/site-packages/sklearn/datasets/_openml.py:1002: FutureWarning: The default value of `parser` will change from `'liac-arff'` to `'auto'` in 1.4. You can set `parser='auto'` to silence this warning. Therefore, an `ImportError` will be raised from 1.4 if the dataset is dense and pandas is not installed. Note that the pandas parser may return different data types. See the Notes Section in fetch_openml's API doc for details.\n",
      "  warn(\n"
     ]
    },
    {
     "data": {
      "text/plain": [
       "29.515137790197592"
      ]
     },
     "execution_count": 8,
     "metadata": {},
     "output_type": "execute_result"
    }
   ],
   "source": [
    "#파이프 사용 미사용 버전\n",
    "from sklearn import datasets\n",
    "from sklearn.pipeline import Pipeline\n",
    "from sklearn.preprocessing import StandardScaler\n",
    "from sklearn.linear_model import LinearRegression\n",
    "from sklearn.model_selection import train_test_split\n",
    "from sklearn.metrics import mean_squared_error\n",
    "\n",
    "\n",
    "from sklearn.datasets import fetch_openml\n",
    "raw_boston = fetch_openml(name='boston')\n",
    "\n",
    "X = raw_boston.data\n",
    "y = raw_boston.target\n",
    "\n",
    "#데이터 분할\n",
    "X_tn,X_te,y_tn,y_te = train_test_split(X,y,random_state=7)\n",
    "\n",
    "#표준화 스케일링\n",
    "std_scale=StandardScaler()\n",
    "X_tn_std = std_scale.fit_transform(X_tn)\n",
    "X_te_std = std_scale.transform(X_te)\n",
    "\n",
    "#학습\n",
    "clf_linear = LinearRegression()\n",
    "clf_linear.fit(X_tn_std,y_tn)\n",
    "##표준화된 데이터와 타겟데이터를 이용해서 모델을 훈련 데이터에 맞춘다.\n",
    "###여기까지 하면 모델은 학습이 종료됨.\n",
    "\n",
    "#예측\n",
    "pred_linear = clf_linear.predict(X_te_std)\n",
    "##본 코드의 목적인 예측을 수행함.\n",
    "###표준화된 테스트 데이터를 이용해서 입력에 대한 예측을 출력함.\n",
    "\n",
    "#평가\n",
    "mean_squared_error(y_te,pred_linear)"
   ]
  },
  {
   "cell_type": "code",
   "execution_count": 6,
   "metadata": {},
   "outputs": [
    {
     "data": {
      "text/plain": [
       "29.515137790197592"
      ]
     },
     "execution_count": 6,
     "metadata": {},
     "output_type": "execute_result"
    }
   ],
   "source": [
    "X_tn,X_te,y_tn,y_te = train_test_split(X,y,random_state=7)\n",
    "\n",
    "linear_pipeline = Pipeline([\n",
    "    ('scaler',StandardScaler()),\n",
    "    ('linear_regression',LinearRegression())\n",
    "])\n",
    "#학습\n",
    "linear_pipeline.fit(X_tn,y_tn)\n",
    "#예측\n",
    "pred_linear = linear_pipeline.predict(X_te)\n",
    "#평가\n",
    "mean_squared_error(y_te,pred_linear)"
   ]
  },
  {
   "cell_type": "code",
   "execution_count": null,
   "metadata": {},
   "outputs": [],
   "source": [
    "일단 이렇게 단순화 되는건 알았는데 저 예측-평가에 대한 이해가 아직 부족함"
   ]
  }
 ],
 "metadata": {
  "colab": {
   "authorship_tag": "ABX9TyNtWkHHEfuR/+OeCYEhEAuh",
   "provenance": []
  },
  "kernelspec": {
   "display_name": "Python 3 (ipykernel)",
   "language": "python",
   "name": "python3"
  },
  "language_info": {
   "codemirror_mode": {
    "name": "ipython",
    "version": 3
   },
   "file_extension": ".py",
   "mimetype": "text/x-python",
   "name": "python",
   "nbconvert_exporter": "python",
   "pygments_lexer": "ipython3",
   "version": "3.8.18"
  }
 },
 "nbformat": 4,
 "nbformat_minor": 1
}
