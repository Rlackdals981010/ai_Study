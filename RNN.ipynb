{
 "cells": [
  {
   "cell_type": "code",
   "execution_count": 6,
   "id": "40e039b7",
   "metadata": {},
   "outputs": [],
   "source": [
    "#순환 신경망. 시신경 데이터를 이용함\n",
    "import numpy as np\n",
    "import tensorflow as tf\n",
    "np.random.seed(0)\n",
    "tf.random.set_seed(0)"
   ]
  },
  {
   "cell_type": "code",
   "execution_count": 11,
   "id": "0b2b7837",
   "metadata": {},
   "outputs": [],
   "source": [
    "from tensorflow.keras.datasets import imdb\n",
    "(X_tn0,y_tn0),(X_te0,y_test) = imdb.load_data(num_words=2000)"
   ]
  },
  {
   "cell_type": "code",
   "execution_count": 12,
   "id": "4b9bf1ff",
   "metadata": {},
   "outputs": [
    {
     "name": "stdout",
     "output_type": "stream",
     "text": [
      "(25000,)\n",
      "(25000,)\n",
      "(25000,)\n",
      "(25000,)\n"
     ]
    }
   ],
   "source": [
    "print(X_tn0.shape)\n",
    "print(y_tn0.shape)\n",
    "print(X_te0.shape)\n",
    "print(y_test.shape)"
   ]
  },
  {
   "cell_type": "code",
   "execution_count": 13,
   "id": "7de832c4",
   "metadata": {},
   "outputs": [
    {
     "name": "stdout",
     "output_type": "stream",
     "text": [
      "(20000,)\n",
      "(20000,)\n",
      "(5000,)\n",
      "(5000,)\n"
     ]
    }
   ],
   "source": [
    "X_train = X_tn0[:20000]#트레이닝 피쳐\n",
    "print(X_train.shape)\n",
    "\n",
    "y_train = y_tn0[:20000]#트레이닝 타겟\n",
    "print(y_train.shape)\n",
    "\n",
    "X_valid = X_tn0[20000:25000]#벨리데이션 피쳐\n",
    "print(X_valid.shape)\n",
    "y_valid = y_tn0[20000:25000]#벨리데이션 타겟\n",
    "print(y_valid.shape)"
   ]
  },
  {
   "cell_type": "code",
   "execution_count": 15,
   "id": "e6984463",
   "metadata": {},
   "outputs": [
    {
     "name": "stdout",
     "output_type": "stream",
     "text": [
      "[1, 14, 22, 16, 43, 530, 973, 1622, 1385, 65, 458, 2, 66, 2, 4, 173, 36, 256, 5, 25, 100, 43, 838, 112, 50, 670, 2, 9, 35, 480, 284, 5, 150, 4, 172, 112, 167, 2, 336, 385, 39, 4, 172, 2, 1111, 17, 546, 38, 13, 447, 4, 192, 50, 16, 6, 147, 2, 19, 14, 22, 4, 1920, 2, 469, 4, 22, 71, 87, 12, 16, 43, 530, 38, 76, 15, 13, 1247, 4, 22, 17, 515, 17, 12, 16, 626, 18, 2, 5, 62, 386, 12, 8, 316, 8, 106, 5, 4, 2, 2, 16, 480, 66, 2, 33, 4, 130, 12, 16, 38, 619, 5, 25, 124, 51, 36, 135, 48, 25, 1415, 33, 6, 22, 12, 215, 28, 77, 52, 5, 14, 407, 16, 82, 2, 8, 4, 107, 117, 2, 15, 256, 4, 2, 7, 2, 5, 723, 36, 71, 43, 530, 476, 26, 400, 317, 46, 7, 4, 2, 1029, 13, 104, 88, 4, 381, 15, 297, 98, 32, 2, 56, 26, 141, 6, 194, 2, 18, 4, 226, 22, 21, 134, 476, 26, 480, 5, 144, 30, 2, 18, 51, 36, 28, 224, 92, 25, 104, 4, 226, 65, 16, 38, 1334, 88, 12, 16, 283, 5, 16, 2, 113, 103, 32, 15, 16, 2, 19, 178, 32]\n"
     ]
    }
   ],
   "source": [
    "print(X_train[0]) #보니까 숫자 리스트임. 오리지널 데이터는 이미 단어를 숫자로 매핑해 영 단어가 해당하는 숫자로 변환된 것."
   ]
  },
  {
   "cell_type": "code",
   "execution_count": 16,
   "id": "fe88023d",
   "metadata": {},
   "outputs": [
    {
     "name": "stdout",
     "output_type": "stream",
     "text": [
      "218\n",
      "189\n"
     ]
    }
   ],
   "source": [
    "print(len(X_train[0]))\n",
    "print(len(X_train[1]))"
   ]
  },
  {
   "cell_type": "code",
   "execution_count": 20,
   "id": "2f8487ab",
   "metadata": {},
   "outputs": [
    {
     "name": "stdout",
     "output_type": "stream",
     "text": [
      "{0, 1}\n",
      "2\n"
     ]
    }
   ],
   "source": [
    "print(set(y_test)) #이진분류\n",
    "print(len(set(y_test))) #클래스 2개"
   ]
  },
  {
   "cell_type": "code",
   "execution_count": 25,
   "id": "b6b2c64f",
   "metadata": {},
   "outputs": [
    {
     "name": "stdout",
     "output_type": "stream",
     "text": [
      "(20000, 100)\n",
      "(5000, 100)\n",
      "(25000, 100)\n"
     ]
    }
   ],
   "source": [
    "#피처 데이터 변경\n",
    "from tensorflow.keras.preprocessing import sequence\n",
    "X_train = sequence.pad_sequences(X_train,maxlen=100)\n",
    "print(X_train.shape)\n",
    "\n",
    "X_valid = sequence.pad_sequences(X_valid,maxlen=100)\n",
    "print(X_valid.shape)\n",
    "\n",
    "X_test = sequence.pad_sequences(X_te0,maxlen=100)\n",
    "print(X_test.shape)"
   ]
  },
  {
   "cell_type": "code",
   "execution_count": 27,
   "id": "85a7d473",
   "metadata": {},
   "outputs": [
    {
     "name": "stdout",
     "output_type": "stream",
     "text": [
      "Model: \"sequential\"\n",
      "_________________________________________________________________\n",
      " Layer (type)                Output Shape              Param #   \n",
      "=================================================================\n",
      " embedding (Embedding)       (None, None, 100)         200000    \n",
      "                                                                 \n",
      " conv1d (Conv1D)             (None, None, 50)          15050     \n",
      "                                                                 \n",
      " max_pooling1d (MaxPooling1D  (None, None, 50)         0         \n",
      " )                                                               \n",
      "                                                                 \n",
      " lstm (LSTM)                 (None, 100)               60400     \n",
      "                                                                 \n",
      " dropout (Dropout)           (None, 100)               0         \n",
      "                                                                 \n",
      " dense (Dense)               (None, 1)                 101       \n",
      "                                                                 \n",
      "=================================================================\n",
      "Total params: 275,551\n",
      "Trainable params: 275,551\n",
      "Non-trainable params: 0\n",
      "_________________________________________________________________\n"
     ]
    }
   ],
   "source": [
    "#LSTM 모형\n",
    "from tensorflow.keras.models import Sequential\n",
    "from tensorflow.keras.layers import Dense,LSTM\n",
    "from tensorflow.keras.layers import Embedding\n",
    "from tensorflow.keras.layers import Dropout\n",
    "from tensorflow.keras.layers import Conv1D\n",
    "from tensorflow.keras.layers import MaxPooling1D\n",
    "\n",
    "model = Sequential()\n",
    "model.add(Embedding(input_dim=2000,output_dim=100))\n",
    "model.add(Conv1D(50,kernel_size=3,\n",
    "                padding='valid',\n",
    "                activation='relu'))\n",
    "model.add(MaxPooling1D(pool_size=3))\n",
    "model.add(LSTM(100,activation='tanh'))\n",
    "model.add(Dropout(0.25))\n",
    "model.add(Dense(1,activation='sigmoid'))\n",
    "model.summary()"
   ]
  },
  {
   "cell_type": "code",
   "execution_count": 28,
   "id": "ef5673ba",
   "metadata": {},
   "outputs": [],
   "source": [
    "model.compile(loss='binary_crossentropy',\n",
    "             optimizer = 'adam',\n",
    "             metrics = ['accuracy'])"
   ]
  },
  {
   "cell_type": "code",
   "execution_count": 30,
   "id": "3d718147",
   "metadata": {},
   "outputs": [
    {
     "name": "stdout",
     "output_type": "stream",
     "text": [
      "Epoch 1/10\n"
     ]
    },
    {
     "name": "stderr",
     "output_type": "stream",
     "text": [
      "2024-01-25 15:29:50.179265: W tensorflow/tsl/platform/profile_utils/cpu_utils.cc:128] Failed to get CPU frequency: 0 Hz\n"
     ]
    },
    {
     "name": "stdout",
     "output_type": "stream",
     "text": [
      "200/200 [==============================] - 7s 34ms/step - loss: 0.4854 - accuracy: 0.7482 - val_loss: 0.3852 - val_accuracy: 0.8292\n",
      "Epoch 2/10\n",
      "200/200 [==============================] - 7s 35ms/step - loss: 0.3415 - accuracy: 0.8536 - val_loss: 0.3730 - val_accuracy: 0.8320\n",
      "Epoch 3/10\n",
      "200/200 [==============================] - 7s 36ms/step - loss: 0.2973 - accuracy: 0.8769 - val_loss: 0.3661 - val_accuracy: 0.8348\n",
      "Epoch 4/10\n",
      "200/200 [==============================] - 7s 37ms/step - loss: 0.2538 - accuracy: 0.8997 - val_loss: 0.3945 - val_accuracy: 0.8342\n",
      "Epoch 5/10\n",
      "200/200 [==============================] - 8s 38ms/step - loss: 0.1843 - accuracy: 0.9325 - val_loss: 0.5045 - val_accuracy: 0.8112\n",
      "Epoch 6/10\n",
      "200/200 [==============================] - 8s 39ms/step - loss: 0.1158 - accuracy: 0.9603 - val_loss: 0.4788 - val_accuracy: 0.8194\n",
      "Epoch 7/10\n",
      "200/200 [==============================] - 8s 41ms/step - loss: 0.0703 - accuracy: 0.9776 - val_loss: 0.5092 - val_accuracy: 0.7982\n",
      "Epoch 8/10\n",
      "200/200 [==============================] - 9s 44ms/step - loss: 0.0629 - accuracy: 0.9789 - val_loss: 0.6014 - val_accuracy: 0.8154\n",
      "Epoch 9/10\n",
      "200/200 [==============================] - 9s 47ms/step - loss: 0.0286 - accuracy: 0.9918 - val_loss: 1.0180 - val_accuracy: 0.8102\n",
      "Epoch 10/10\n",
      "200/200 [==============================] - 9s 46ms/step - loss: 0.0161 - accuracy: 0.9960 - val_loss: 0.7935 - val_accuracy: 0.8106\n"
     ]
    }
   ],
   "source": [
    "hist = model.fit(X_train,y_train,\n",
    "                batch_size=100,\n",
    "                epochs=10,\n",
    "                validation_data=(X_valid,y_valid))"
   ]
  },
  {
   "cell_type": "code",
   "execution_count": 31,
   "id": "3cb88227",
   "metadata": {},
   "outputs": [
    {
     "name": "stdout",
     "output_type": "stream",
     "text": [
      "625/625 [==============================] - 3s 5ms/step - loss: 0.0095 - accuracy: 0.9990\n",
      "0.9989500045776367\n",
      "157/157 [==============================] - 1s 5ms/step - loss: 0.7935 - accuracy: 0.8106\n",
      "0.8105999827384949\n",
      "782/782 [==============================] - 4s 5ms/step - loss: 0.7521 - accuracy: 0.8233\n",
      "0.8233199715614319\n"
     ]
    }
   ],
   "source": [
    "print(model.evaluate(X_train,y_train)[1])\n",
    "print(model.evaluate(X_valid,y_valid)[1])\n",
    "print(model.evaluate(X_test,y_test)[1])"
   ]
  },
  {
   "cell_type": "code",
   "execution_count": 34,
   "id": "b7ac687d",
   "metadata": {},
   "outputs": [
    {
     "data": {
      "image/png": "[encoded data removed]",
      "text/plain": [
       "<Figure size 1500x100 with 2 Axes>"
      ]
     },
     "metadata": {},
     "output_type": "display_data"
    }
   ],
   "source": [
    "import numpy as np\n",
    "epoch = np.arange(1,11)\n",
    "acc_train = hist.history['accuracy']\n",
    "acc_valid = hist.history['val_accuracy']\n",
    "loss_train = hist.history['loss']\n",
    "loss_valid = hist.history['val_loss']\n",
    "\n",
    "import matplotlib.pyplot as plt\n",
    "plt.figure(figsize=(15,1))\n",
    "plt.subplot(121)\n",
    "plt.plot(epoch,acc_train,'b',\n",
    "        marker='.',\n",
    "        label='train_acc')\n",
    "plt.plot(epoch,acc_valid,'r--',\n",
    "        marker='.',\n",
    "        label='valid_acc')\n",
    "plt.title('Accuracy')\n",
    "plt.xlabel('epoch')\n",
    "plt.ylabel('accuracy')\n",
    "plt.legend()\n",
    "plt.subplot(122)\n",
    "plt.plot(epoch,loss_train,'b',\n",
    "        marker='.',\n",
    "        label='train_loss')\n",
    "plt.plot(epoch,loss_valid,'r--',\n",
    "        marker='.',\n",
    "        label='valid_loss')\n",
    "plt.title('Loss')\n",
    "plt.xlabel('epoch')\n",
    "plt.ylabel('loss')\n",
    "plt.legend()\n",
    "plt.show()"
   ]
  },
  {
   "cell_type": "code",
   "execution_count": null,
   "id": "8ae221c1",
   "metadata": {},
   "outputs": [],
   "source": []
  }
 ],
 "metadata": {
  "kernelspec": {
   "display_name": "Python 3 (ipykernel)",
   "language": "python",
   "name": "python3"
  },
  "language_info": {
   "codemirror_mode": {
    "name": "ipython",
    "version": 3
   },
   "file_extension": ".py",
   "mimetype": "text/x-python",
   "name": "python",
   "nbconvert_exporter": "python",
   "pygments_lexer": "ipython3",
   "version": "3.8.18"
  }
 },
 "nbformat": 4,
 "nbformat_minor": 5
}
