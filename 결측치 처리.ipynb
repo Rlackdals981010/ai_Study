{
 "cells": [
  {
   "cell_type": "code",
   "execution_count": 1,
   "metadata": {},
   "outputs": [],
   "source": [
    "import numpy as np\n",
    "#수학적 계산 관련 함수 제공\n",
    "import pandas as pd\n",
    "#데이터를 데이터 프레임 형식으로 다루는 라이브러리. 데이터 이용시 필수"
   ]
  },
  {
   "cell_type": "code",
   "execution_count": null,
   "metadata": {},
   "outputs": [],
   "source": [
    "주어진 데이터 셋중 일부의 데이터가 손실된 경우 결측치라고 하고\n",
    "머신러닝 알고리즘 적용 전에 이를 처리해야함"
   ]
  },
  {
   "cell_type": "code",
   "execution_count": 5,
   "metadata": {},
   "outputs": [],
   "source": [
    "df = pd.DataFrame([\n",
    "    [42,'male',12,'reading','class2'],\n",
    "    [35,'unknown',3,'cooking','class1'],\n",
    "    [1000,'female',7,'cycling','class3'],\n",
    "    [1000,'unknown',21,'unknown','unknown']\n",
    "])\n",
    "df.columns = ['age','gender','month_birth','hobby','target']"
   ]
  },
  {
   "cell_type": "code",
   "execution_count": 6,
   "metadata": {},
   "outputs": [
    {
     "data": {
      "text/html": [
       "<div>\n",
       "<style scoped>\n",
       "    .dataframe tbody tr th:only-of-type {\n",
       "        vertical-align: middle;\n",
       "    }\n",
       "\n",
       "    .dataframe tbody tr th {\n",
       "        vertical-align: top;\n",
       "    }\n",
       "\n",
       "    .dataframe thead th {\n",
       "        text-align: right;\n",
       "    }\n",
       "</style>\n",
       "<table border=\"1\" class=\"dataframe\">\n",
       "  <thead>\n",
       "    <tr style=\"text-align: right;\">\n",
       "      <th></th>\n",
       "      <th>age</th>\n",
       "      <th>gender</th>\n",
       "      <th>month_birth</th>\n",
       "      <th>hobby</th>\n",
       "      <th>target</th>\n",
       "    </tr>\n",
       "  </thead>\n",
       "  <tbody>\n",
       "    <tr>\n",
       "      <th>0</th>\n",
       "      <td>42</td>\n",
       "      <td>male</td>\n",
       "      <td>12</td>\n",
       "      <td>reading</td>\n",
       "      <td>class2</td>\n",
       "    </tr>\n",
       "    <tr>\n",
       "      <th>1</th>\n",
       "      <td>35</td>\n",
       "      <td>unknown</td>\n",
       "      <td>3</td>\n",
       "      <td>cooking</td>\n",
       "      <td>class1</td>\n",
       "    </tr>\n",
       "    <tr>\n",
       "      <th>2</th>\n",
       "      <td>1000</td>\n",
       "      <td>female</td>\n",
       "      <td>7</td>\n",
       "      <td>cycling</td>\n",
       "      <td>class3</td>\n",
       "    </tr>\n",
       "    <tr>\n",
       "      <th>3</th>\n",
       "      <td>1000</td>\n",
       "      <td>unknown</td>\n",
       "      <td>21</td>\n",
       "      <td>unknown</td>\n",
       "      <td>unknown</td>\n",
       "    </tr>\n",
       "  </tbody>\n",
       "</table>\n",
       "</div>"
      ],
      "text/plain": [
       "    age   gender  month_birth    hobby   target\n",
       "0    42     male           12  reading   class2\n",
       "1    35  unknown            3  cooking   class1\n",
       "2  1000   female            7  cycling   class3\n",
       "3  1000  unknown           21  unknown  unknown"
      ]
     },
     "execution_count": 6,
     "metadata": {},
     "output_type": "execute_result"
    }
   ],
   "source": [
    "df"
   ]
  },
  {
   "cell_type": "markdown",
   "metadata": {},
   "source": [
    "여기서 age가 1000인것, 출생 달이 21인것은 말이 안되기 때문에 결측값으로 전환이 필요하다"
   ]
  },
  {
   "cell_type": "code",
   "execution_count": 10,
   "metadata": {},
   "outputs": [
    {
     "name": "stdout",
     "output_type": "stream",
     "text": [
      "[  42   35 1000]\n",
      "['male' 'unknown' 'female']\n",
      "[12  3  7 21]\n",
      "['reading' 'cooking' 'cycling' 'unknown']\n",
      "['class2' 'class1' 'class3' 'unknown']\n"
     ]
    }
   ],
   "source": [
    "print(df['age'].unique())\n",
    "print(df['gender'].unique())\n",
    "print(df['month_birth'].unique())\n",
    "print(df['hobby'].unique())\n",
    "print(df['target'].unique())"
   ]
  },
  {
   "cell_type": "code",
   "execution_count": 17,
   "metadata": {},
   "outputs": [
    {
     "data": {
      "text/html": [
       "<div>\n",
       "<style scoped>\n",
       "    .dataframe tbody tr th:only-of-type {\n",
       "        vertical-align: middle;\n",
       "    }\n",
       "\n",
       "    .dataframe tbody tr th {\n",
       "        vertical-align: top;\n",
       "    }\n",
       "\n",
       "    .dataframe thead th {\n",
       "        text-align: right;\n",
       "    }\n",
       "</style>\n",
       "<table border=\"1\" class=\"dataframe\">\n",
       "  <thead>\n",
       "    <tr style=\"text-align: right;\">\n",
       "      <th></th>\n",
       "      <th>age</th>\n",
       "      <th>gender</th>\n",
       "      <th>month_birth</th>\n",
       "      <th>hobby</th>\n",
       "      <th>target</th>\n",
       "    </tr>\n",
       "  </thead>\n",
       "  <tbody>\n",
       "    <tr>\n",
       "      <th>0</th>\n",
       "      <td>42.0</td>\n",
       "      <td>male</td>\n",
       "      <td>12.0</td>\n",
       "      <td>reading</td>\n",
       "      <td>class2</td>\n",
       "    </tr>\n",
       "    <tr>\n",
       "      <th>1</th>\n",
       "      <td>35.0</td>\n",
       "      <td>NaN</td>\n",
       "      <td>3.0</td>\n",
       "      <td>cooking</td>\n",
       "      <td>class1</td>\n",
       "    </tr>\n",
       "    <tr>\n",
       "      <th>2</th>\n",
       "      <td>NaN</td>\n",
       "      <td>female</td>\n",
       "      <td>7.0</td>\n",
       "      <td>cycling</td>\n",
       "      <td>class3</td>\n",
       "    </tr>\n",
       "    <tr>\n",
       "      <th>3</th>\n",
       "      <td>NaN</td>\n",
       "      <td>NaN</td>\n",
       "      <td>NaN</td>\n",
       "      <td>NaN</td>\n",
       "      <td>NaN</td>\n",
       "    </tr>\n",
       "  </tbody>\n",
       "</table>\n",
       "</div>"
      ],
      "text/plain": [
       "    age  gender  month_birth    hobby  target\n",
       "0  42.0    male         12.0  reading  class2\n",
       "1  35.0     NaN          3.0  cooking  class1\n",
       "2   NaN  female          7.0  cycling  class3\n",
       "3   NaN     NaN          NaN      NaN     NaN"
      ]
     },
     "execution_count": 17,
     "metadata": {},
     "output_type": "execute_result"
    }
   ],
   "source": [
    "#부적절한 값 결측치로 바꾸기\n",
    "df.loc[df['age']>110,['age']]=np.nan\n",
    "df.loc[df['gender']=='unknown',['gender']]=np.nan\n",
    "df.loc[df['month_birth']>12,['month_birth']]=np.nan\n",
    "df.loc[df['hobby']=='unknown',['hobby']]=np.nan\n",
    "df.loc[df['target']=='unknown',['target']]=np.nan\n",
    "df"
   ]
  },
  {
   "cell_type": "code",
   "execution_count": 19,
   "metadata": {},
   "outputs": [
    {
     "data": {
      "text/plain": [
       "age            2\n",
       "gender         2\n",
       "month_birth    1\n",
       "hobby          1\n",
       "target         1\n",
       "dtype: int64"
      ]
     },
     "execution_count": 19,
     "metadata": {},
     "output_type": "execute_result"
    }
   ],
   "source": [
    "#결측치 갯수 새기\n",
    "df.isnull().sum()"
   ]
  },
  {
   "cell_type": "code",
   "execution_count": 28,
   "metadata": {},
   "outputs": [
    {
     "name": "stdout",
     "output_type": "stream",
     "text": [
      "    age gender  month_birth    hobby  target\n",
      "0  42.0   male         12.0  reading  class2\n",
      "Empty DataFrame\n",
      "Columns: []\n",
      "Index: [0, 1, 2, 3]\n",
      "    age  gender  month_birth    hobby  target\n",
      "0  42.0    male         12.0  reading  class2\n",
      "1  35.0     NaN          3.0  cooking  class1\n",
      "2   NaN  female          7.0  cycling  class3\n",
      "    age  gender  month_birth    hobby  target\n",
      "0  42.0    male         12.0  reading  class2\n",
      "1  35.0     NaN          3.0  cooking  class1\n",
      "2   NaN  female          7.0  cycling  class3\n",
      "    age  gender  month_birth    hobby  target\n",
      "0  42.0    male         12.0  reading  class2\n",
      "2   NaN  female          7.0  cycling  class3\n"
     ]
    }
   ],
   "source": [
    "#결측치 처리 방법 1. 삭제 \n",
    "df2 = df.dropna(axis=0)    #axis=0은 row, 즉 - 행을 삭제한다는 뜻\n",
    "print(df2)\n",
    "df3 = df.dropna(axis=1)    #axis=0은 column, 즉 | 행을 삭제한다는 뜻\n",
    "print(df3)\n",
    "df4 = df.dropna(how='all') #모든 열이 NaN인 행 삭제\n",
    "print(df4)\n",
    "df5 = df.dropna(thresh=2)  #값이 2개 미만인 행 삭제\n",
    "print(df5)\n",
    "df6 =df.dropna(subset='gender') #특정 열 (feature 종류)에 결측값이 있는 행을 삭제\n",
    "print(df6)"
   ]
  },
  {
   "cell_type": "code",
   "execution_count": 46,
   "metadata": {},
   "outputs": [],
   "source": [
    "#결측치 처리 방법 2. 값 교체(대체)\n",
    "alter_values = {'age' : 0,    \n",
    "                'gender':'U',        \n",
    "                'month_birth':0,            \n",
    "                'hobby':'U',                \n",
    "                'target':'class4'}\n",
    "df7=df.fillna(value=alter_values)                    \n",
    "        "
   ]
  },
  {
   "cell_type": "code",
   "execution_count": 47,
   "metadata": {},
   "outputs": [
    {
     "data": {
      "text/plain": [
       "array([1, 0, 2, 3])"
      ]
     },
     "execution_count": 47,
     "metadata": {},
     "output_type": "execute_result"
    }
   ],
   "source": [
    "#사이킷 런을 사용한 클래스 라벨 설정\n",
    "##라벨 : 이름표 => 해당 피처 데이터가 나타내는게 무엇인지 \n",
    "###df의 'target'은 class시리즈 인데 이는 str형태이므로 int형태로 바꿔보자\n",
    "from sklearn.preprocessing import LabelEncoder #라벨링 함수\n",
    "df8 = df7\n",
    "class_label = LabelEncoder()#라벨링 모형 설정\n",
    "data_value = df8['target'].values#타깃 변수 값 불러오기\n",
    "y_new = class_label.fit_transform(data_value)#데이터 값 변환\n",
    "y_new"
   ]
  },
  {
   "cell_type": "code",
   "execution_count": 48,
   "metadata": {},
   "outputs": [
    {
     "data": {
      "text/html": [
       "<div>\n",
       "<style scoped>\n",
       "    .dataframe tbody tr th:only-of-type {\n",
       "        vertical-align: middle;\n",
       "    }\n",
       "\n",
       "    .dataframe tbody tr th {\n",
       "        vertical-align: top;\n",
       "    }\n",
       "\n",
       "    .dataframe thead th {\n",
       "        text-align: right;\n",
       "    }\n",
       "</style>\n",
       "<table border=\"1\" class=\"dataframe\">\n",
       "  <thead>\n",
       "    <tr style=\"text-align: right;\">\n",
       "      <th></th>\n",
       "      <th>age</th>\n",
       "      <th>gender</th>\n",
       "      <th>month_birth</th>\n",
       "      <th>hobby</th>\n",
       "      <th>target</th>\n",
       "    </tr>\n",
       "  </thead>\n",
       "  <tbody>\n",
       "    <tr>\n",
       "      <th>0</th>\n",
       "      <td>42.0</td>\n",
       "      <td>male</td>\n",
       "      <td>12.0</td>\n",
       "      <td>reading</td>\n",
       "      <td>1</td>\n",
       "    </tr>\n",
       "    <tr>\n",
       "      <th>1</th>\n",
       "      <td>35.0</td>\n",
       "      <td>U</td>\n",
       "      <td>3.0</td>\n",
       "      <td>cooking</td>\n",
       "      <td>0</td>\n",
       "    </tr>\n",
       "    <tr>\n",
       "      <th>2</th>\n",
       "      <td>0.0</td>\n",
       "      <td>female</td>\n",
       "      <td>7.0</td>\n",
       "      <td>cycling</td>\n",
       "      <td>2</td>\n",
       "    </tr>\n",
       "    <tr>\n",
       "      <th>3</th>\n",
       "      <td>0.0</td>\n",
       "      <td>U</td>\n",
       "      <td>0.0</td>\n",
       "      <td>U</td>\n",
       "      <td>3</td>\n",
       "    </tr>\n",
       "  </tbody>\n",
       "</table>\n",
       "</div>"
      ],
      "text/plain": [
       "    age  gender  month_birth    hobby  target\n",
       "0  42.0    male         12.0  reading       1\n",
       "1  35.0       U          3.0  cooking       0\n",
       "2   0.0  female          7.0  cycling       2\n",
       "3   0.0       U          0.0        U       3"
      ]
     },
     "execution_count": 48,
     "metadata": {},
     "output_type": "execute_result"
    }
   ],
   "source": [
    "df8['target']=y_new #덮어쓰기\n",
    "df8"
   ]
  },
  {
   "cell_type": "code",
   "execution_count": 49,
   "metadata": {},
   "outputs": [
    {
     "data": {
      "text/plain": [
       "array(['class2', 'class1', 'class3', 'class4'], dtype=object)"
      ]
     },
     "execution_count": 49,
     "metadata": {},
     "output_type": "execute_result"
    }
   ],
   "source": [
    "y_ori = class_label.inverse_transform(y_new) #덮어쓰기 전 target 원본\n",
    "y_ori"
   ]
  },
  {
   "cell_type": "code",
   "execution_count": 50,
   "metadata": {},
   "outputs": [
    {
     "data": {
      "text/html": [
       "<div>\n",
       "<style scoped>\n",
       "    .dataframe tbody tr th:only-of-type {\n",
       "        vertical-align: middle;\n",
       "    }\n",
       "\n",
       "    .dataframe tbody tr th {\n",
       "        vertical-align: top;\n",
       "    }\n",
       "\n",
       "    .dataframe thead th {\n",
       "        text-align: right;\n",
       "    }\n",
       "</style>\n",
       "<table border=\"1\" class=\"dataframe\">\n",
       "  <thead>\n",
       "    <tr style=\"text-align: right;\">\n",
       "      <th></th>\n",
       "      <th>age</th>\n",
       "      <th>gender</th>\n",
       "      <th>month_birth</th>\n",
       "      <th>hobby</th>\n",
       "      <th>target</th>\n",
       "    </tr>\n",
       "  </thead>\n",
       "  <tbody>\n",
       "    <tr>\n",
       "      <th>0</th>\n",
       "      <td>42.0</td>\n",
       "      <td>male</td>\n",
       "      <td>12.0</td>\n",
       "      <td>reading</td>\n",
       "      <td>class2</td>\n",
       "    </tr>\n",
       "    <tr>\n",
       "      <th>1</th>\n",
       "      <td>35.0</td>\n",
       "      <td>U</td>\n",
       "      <td>3.0</td>\n",
       "      <td>cooking</td>\n",
       "      <td>class1</td>\n",
       "    </tr>\n",
       "    <tr>\n",
       "      <th>2</th>\n",
       "      <td>0.0</td>\n",
       "      <td>female</td>\n",
       "      <td>7.0</td>\n",
       "      <td>cycling</td>\n",
       "      <td>class3</td>\n",
       "    </tr>\n",
       "    <tr>\n",
       "      <th>3</th>\n",
       "      <td>0.0</td>\n",
       "      <td>U</td>\n",
       "      <td>0.0</td>\n",
       "      <td>U</td>\n",
       "      <td>class4</td>\n",
       "    </tr>\n",
       "  </tbody>\n",
       "</table>\n",
       "</div>"
      ],
      "text/plain": [
       "    age  gender  month_birth    hobby  target\n",
       "0  42.0    male         12.0  reading  class2\n",
       "1  35.0       U          3.0  cooking  class1\n",
       "2   0.0  female          7.0  cycling  class3\n",
       "3   0.0       U          0.0        U  class4"
      ]
     },
     "execution_count": 50,
     "metadata": {},
     "output_type": "execute_result"
    }
   ],
   "source": [
    "df8['target']=y_ori\n",
    "df8"
   ]
  },
  {
   "cell_type": "code",
   "execution_count": 53,
   "metadata": {},
   "outputs": [],
   "source": [
    "#사이킷런 미사용 라벨링\n",
    "y_arr = df8['target'].values #타깃값 불러오기\n",
    "y_arr.sort()                 #target을 오름차순 정렬\n",
    "y_arr\n",
    "num_y=0                      #숫자형 타깃 이름 설정. 가장 첫 타깃 이름 0\n",
    "dic_y={}                     #타깃과 숫자형을 매핑하는 딕셔너리\n",
    "for ith_y in y_arr:          #반복문을 통해 클래스 라벨과 숫자형 라벨 설정\n",
    "    dic_y[ith_y] = num_y\n",
    "    num_y+=1"
   ]
  },
  {
   "cell_type": "code",
   "execution_count": 54,
   "metadata": {},
   "outputs": [
    {
     "data": {
      "text/plain": [
       "{'class1': 0, 'class2': 1, 'class3': 2, 'class4': 3}"
      ]
     },
     "execution_count": 54,
     "metadata": {},
     "output_type": "execute_result"
    }
   ],
   "source": [
    "dic_y"
   ]
  },
  {
   "cell_type": "code",
   "execution_count": 56,
   "metadata": {},
   "outputs": [
    {
     "data": {
      "text/html": [
       "<div>\n",
       "<style scoped>\n",
       "    .dataframe tbody tr th:only-of-type {\n",
       "        vertical-align: middle;\n",
       "    }\n",
       "\n",
       "    .dataframe tbody tr th {\n",
       "        vertical-align: top;\n",
       "    }\n",
       "\n",
       "    .dataframe thead th {\n",
       "        text-align: right;\n",
       "    }\n",
       "</style>\n",
       "<table border=\"1\" class=\"dataframe\">\n",
       "  <thead>\n",
       "    <tr style=\"text-align: right;\">\n",
       "      <th></th>\n",
       "      <th>age</th>\n",
       "      <th>gender</th>\n",
       "      <th>month_birth</th>\n",
       "      <th>hobby</th>\n",
       "      <th>target</th>\n",
       "    </tr>\n",
       "  </thead>\n",
       "  <tbody>\n",
       "    <tr>\n",
       "      <th>0</th>\n",
       "      <td>42.0</td>\n",
       "      <td>male</td>\n",
       "      <td>12.0</td>\n",
       "      <td>reading</td>\n",
       "      <td>0</td>\n",
       "    </tr>\n",
       "    <tr>\n",
       "      <th>1</th>\n",
       "      <td>35.0</td>\n",
       "      <td>U</td>\n",
       "      <td>3.0</td>\n",
       "      <td>cooking</td>\n",
       "      <td>1</td>\n",
       "    </tr>\n",
       "    <tr>\n",
       "      <th>2</th>\n",
       "      <td>0.0</td>\n",
       "      <td>female</td>\n",
       "      <td>7.0</td>\n",
       "      <td>cycling</td>\n",
       "      <td>2</td>\n",
       "    </tr>\n",
       "    <tr>\n",
       "      <th>3</th>\n",
       "      <td>0.0</td>\n",
       "      <td>U</td>\n",
       "      <td>0.0</td>\n",
       "      <td>U</td>\n",
       "      <td>3</td>\n",
       "    </tr>\n",
       "  </tbody>\n",
       "</table>\n",
       "</div>"
      ],
      "text/plain": [
       "    age  gender  month_birth    hobby  target\n",
       "0  42.0    male         12.0  reading       0\n",
       "1  35.0       U          3.0  cooking       1\n",
       "2   0.0  female          7.0  cycling       2\n",
       "3   0.0       U          0.0        U       3"
      ]
     },
     "execution_count": 56,
     "metadata": {},
     "output_type": "execute_result"
    }
   ],
   "source": [
    "df8['target']=df8['target'].replace(dic_y)\n",
    "df8"
   ]
  },
  {
   "cell_type": "code",
   "execution_count": 58,
   "metadata": {},
   "outputs": [
    {
     "name": "stdout",
     "output_type": "stream",
     "text": [
      "   0  1  2  3\n",
      "0  1  0  0  0\n",
      "1  0  1  0  0\n",
      "2  0  0  1  0\n",
      "3  0  0  0  1\n"
     ]
    }
   ],
   "source": [
    "#원-핫 인코딩 (더미 변수)\n",
    "##클래스 라벨링의 다른 방법임\n",
    "##0과 1만 사용한 벡터를 이용해 데이터값을 나타냄\n",
    "df9 = df8\n",
    "df9['target']=df9['target'].astype(str) #타깃 변숫값을 문자형으로 바꿈 (df8의 타깃은 0~4임)\n",
    "df10 = pd.get_dummies(df9['target'])    #판다스에서 제공하는 get_dummies에 타깃 변수를 넣고 원-핫 인코딩 \n",
    "print(df10)"
   ]
  },
  {
   "cell_type": "code",
   "execution_count": 59,
   "metadata": {},
   "outputs": [
    {
     "name": "stdout",
     "output_type": "stream",
     "text": [
      "   1  2  3\n",
      "0  0  0  0\n",
      "1  1  0  0\n",
      "2  0  1  0\n",
      "3  0  0  1\n"
     ]
    }
   ],
   "source": [
    "df9['target']=df9['target'].astype(str)\n",
    "df11 = pd.get_dummies(df9['target'],drop_first=True)#get_dummies를 사용할때 drop_first=True옵션을 사용 ##더미 변수 생성 시 첫 번째 카테고리를 삭제하는 효과가 있음\n",
    "print(df11)"
   ]
  },
  {
   "cell_type": "code",
   "execution_count": 60,
   "metadata": {},
   "outputs": [
    {
     "data": {
      "text/html": [
       "<div>\n",
       "<style scoped>\n",
       "    .dataframe tbody tr th:only-of-type {\n",
       "        vertical-align: middle;\n",
       "    }\n",
       "\n",
       "    .dataframe tbody tr th {\n",
       "        vertical-align: top;\n",
       "    }\n",
       "\n",
       "    .dataframe thead th {\n",
       "        text-align: right;\n",
       "    }\n",
       "</style>\n",
       "<table border=\"1\" class=\"dataframe\">\n",
       "  <thead>\n",
       "    <tr style=\"text-align: right;\">\n",
       "      <th></th>\n",
       "      <th>age</th>\n",
       "      <th>month_birth</th>\n",
       "      <th>gender_U</th>\n",
       "      <th>gender_female</th>\n",
       "      <th>gender_male</th>\n",
       "      <th>hobby_U</th>\n",
       "      <th>hobby_cooking</th>\n",
       "      <th>hobby_cycling</th>\n",
       "      <th>hobby_reading</th>\n",
       "      <th>target_0</th>\n",
       "      <th>target_1</th>\n",
       "      <th>target_2</th>\n",
       "      <th>target_3</th>\n",
       "    </tr>\n",
       "  </thead>\n",
       "  <tbody>\n",
       "    <tr>\n",
       "      <th>0</th>\n",
       "      <td>42.0</td>\n",
       "      <td>12.0</td>\n",
       "      <td>0</td>\n",
       "      <td>0</td>\n",
       "      <td>1</td>\n",
       "      <td>0</td>\n",
       "      <td>0</td>\n",
       "      <td>0</td>\n",
       "      <td>1</td>\n",
       "      <td>1</td>\n",
       "      <td>0</td>\n",
       "      <td>0</td>\n",
       "      <td>0</td>\n",
       "    </tr>\n",
       "    <tr>\n",
       "      <th>1</th>\n",
       "      <td>35.0</td>\n",
       "      <td>3.0</td>\n",
       "      <td>1</td>\n",
       "      <td>0</td>\n",
       "      <td>0</td>\n",
       "      <td>0</td>\n",
       "      <td>1</td>\n",
       "      <td>0</td>\n",
       "      <td>0</td>\n",
       "      <td>0</td>\n",
       "      <td>1</td>\n",
       "      <td>0</td>\n",
       "      <td>0</td>\n",
       "    </tr>\n",
       "    <tr>\n",
       "      <th>2</th>\n",
       "      <td>0.0</td>\n",
       "      <td>7.0</td>\n",
       "      <td>0</td>\n",
       "      <td>1</td>\n",
       "      <td>0</td>\n",
       "      <td>0</td>\n",
       "      <td>0</td>\n",
       "      <td>1</td>\n",
       "      <td>0</td>\n",
       "      <td>0</td>\n",
       "      <td>0</td>\n",
       "      <td>1</td>\n",
       "      <td>0</td>\n",
       "    </tr>\n",
       "    <tr>\n",
       "      <th>3</th>\n",
       "      <td>0.0</td>\n",
       "      <td>0.0</td>\n",
       "      <td>1</td>\n",
       "      <td>0</td>\n",
       "      <td>0</td>\n",
       "      <td>1</td>\n",
       "      <td>0</td>\n",
       "      <td>0</td>\n",
       "      <td>0</td>\n",
       "      <td>0</td>\n",
       "      <td>0</td>\n",
       "      <td>0</td>\n",
       "      <td>1</td>\n",
       "    </tr>\n",
       "  </tbody>\n",
       "</table>\n",
       "</div>"
      ],
      "text/plain": [
       "    age  month_birth  gender_U  gender_female  gender_male  hobby_U  \\\n",
       "0  42.0         12.0         0              0            1        0   \n",
       "1  35.0          3.0         1              0            0        0   \n",
       "2   0.0          7.0         0              1            0        0   \n",
       "3   0.0          0.0         1              0            0        1   \n",
       "\n",
       "   hobby_cooking  hobby_cycling  hobby_reading  target_0  target_1  target_2  \\\n",
       "0              0              0              1         1         0         0   \n",
       "1              1              0              0         0         1         0   \n",
       "2              0              1              0         0         0         1   \n",
       "3              0              0              0         0         0         0   \n",
       "\n",
       "   target_3  \n",
       "0         0  \n",
       "1         0  \n",
       "2         0  \n",
       "3         1  "
      ]
     },
     "execution_count": 60,
     "metadata": {},
     "output_type": "execute_result"
    }
   ],
   "source": [
    "df12 = df8\n",
    "df13 = pd.get_dummies(df12)\n",
    "df13"
   ]
  },
  {
   "cell_type": "code",
   "execution_count": 61,
   "metadata": {},
   "outputs": [
    {
     "name": "stdout",
     "output_type": "stream",
     "text": [
      "[[1. 0. 0. 0.]\n",
      " [0. 1. 0. 0.]\n",
      " [0. 0. 1. 0.]\n",
      " [0. 0. 0. 1.]]\n"
     ]
    }
   ],
   "source": [
    "#사이킷런을 이용한 원-핫 인코딩\n",
    "#array 형식으로 출력함\n",
    "from sklearn.preprocessing import OneHotEncoder\n",
    "hot_encoder = OneHotEncoder()\n",
    "y=df7[['target']]\n",
    "y_hot=hot_encoder.fit_transform(y)\n",
    "print(y_hot.toarray())"
   ]
  },
  {
   "cell_type": "code",
   "execution_count": 64,
   "metadata": {},
   "outputs": [
    {
     "name": "stdout",
     "output_type": "stream",
     "text": [
      "[[1. 0. 0. 0.]\n",
      " [0. 1. 0. 0.]\n",
      " [0. 0. 1. 0.]\n",
      " [0. 0. 0. 1.]]\n"
     ]
    }
   ],
   "source": [
    "#텐서플로를 이용한 원-핫 인코딩\n",
    "from tensorflow.keras.utils import to_categorical\n",
    "y_hotec = to_categorical(y)\n",
    "print(y_hotec)"
   ]
  },
  {
   "cell_type": "code",
   "execution_count": null,
   "metadata": {},
   "outputs": [],
   "source": []
  }
 ],
 "metadata": {
  "colab": {
   "authorship_tag": "ABX9TyNtWkHHEfuR/+OeCYEhEAuh",
   "provenance": []
  },
  "kernelspec": {
   "display_name": "Python 3 (ipykernel)",
   "language": "python",
   "name": "python3"
  },
  "language_info": {
   "codemirror_mode": {
    "name": "ipython",
    "version": 3
   },
   "file_extension": ".py",
   "mimetype": "text/x-python",
   "name": "python",
   "nbconvert_exporter": "python",
   "pygments_lexer": "ipython3",
   "version": "3.8.18"
  }
 },
 "nbformat": 4,
 "nbformat_minor": 1
}
