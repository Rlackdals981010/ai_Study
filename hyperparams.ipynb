{
  "nbformat": 4,
  "nbformat_minor": 0,
  "metadata": {
    "colab": {
      "provenance": [],
      "authorship_tag": "ABX9TyOOlZoGVv2T5WkXk82/Psvy",
      "include_colab_link": true
    },
    "kernelspec": {
      "name": "python3",
      "display_name": "Python 3"
    },
    "language_info": {
      "name": "python"
    }
  },
  "cells": [
    {
      "cell_type": "markdown",
      "metadata": {
        "id": "view-in-github",
        "colab_type": "text"
      },
      "source": [
        "<a href=\"https://colab.research.google.com/github/Rlackdals981010/ai_Study/blob/master/hyperparams.ipynb\" target=\"_parent\"><img src=\"https://colab.research.google.com/assets/colab-badge.svg\" alt=\"Open In Colab\"/></a>"
      ]
    },
    {
      "cell_type": "code",
      "execution_count": 1,
      "metadata": {
        "id": "SjMJ3-z1DLup"
      },
      "outputs": [],
      "source": [
        "#검증 세트\n",
        "#테스트 세트를 이용하지 않고 모델이 과대적합인지 과소 적합인지 판단하는 법\n",
        "#훈련 세트에서 검증 세트 분리\n",
        "#훈련 : 검증 : 테스트 = 6 : 2 : 2\n",
        "import pandas as pd\n",
        "wine = pd.read_csv('https://bit.ly/wine_csv_data')"
      ]
    },
    {
      "cell_type": "code",
      "source": [
        "wine.head()\n",
        "data = wine[['alcohol','sugar','pH']].to_numpy()\n",
        "target = wine['class'].to_numpy()"
      ],
      "metadata": {
        "id": "PEBxJ2zlLP22"
      },
      "execution_count": 2,
      "outputs": []
    },
    {
      "cell_type": "code",
      "source": [
        "from sklearn.model_selection import train_test_split\n",
        "#훈련과 테스트\n",
        "train_input,test_input,train_target,test_target = train_test_split(data,target, test_size=0.2,random_state=42)\n",
        "#훈련과 검증\n",
        "sub_input,val_input,sub_target,val_target = train_test_split(train_input,train_target,test_size=0.2,random_state=42)\n",
        "\n",
        "print(sub_input.shape,val_input.shape)\n",
        "\n",
        "from sklearn.tree import DecisionTreeClassifier\n",
        "dt = DecisionTreeClassifier(random_state=42)\n",
        "dt.fit(sub_input,sub_target)\n",
        "print(dt.score(sub_input,sub_target))\n",
        "print(dt.score(val_input,val_target)) #과대적합"
      ],
      "metadata": {
        "colab": {
          "base_uri": "https://localhost:8080/"
        },
        "id": "NePE98iwLUMU",
        "outputId": "ae51b275-2f37-4f7c-d88f-1928b8c6bd4c"
      },
      "execution_count": 3,
      "outputs": [
        {
          "output_type": "stream",
          "name": "stdout",
          "text": [
            "(4157, 3) (1040, 3)\n",
            "0.9971133028626413\n",
            "0.864423076923077\n"
          ]
        }
      ]
    },
    {
      "cell_type": "code",
      "source": [
        "#교차 검증\n",
        "#많은 데이터를 훈련에 사용할수록 모델이 좋음.\n",
        "#하지만 검증을 너무 조금 때면 검증 점수가 불안정함 -> 교차 검증으로 안정적인 점수를 얻으면서 훈련에 데이터를 더 사용 가능\n",
        "#교차검증 : 검증 세트를 떼어 내어 내어 평가하는 과정을 여러번 반복\n",
        "#ex) 3-폴드 교차 검증 : 훈련 세트를 세 부분으로 나눠서 교차 검증을 수행. 통칭 k-폴드 교차 검증이라고 한다.\n",
        "from sklearn.model_selection import cross_validate\n",
        "scores = cross_validate(dt, train_input, train_target) #교차 검증 함수. 평가할 모델 객체를 첫 번째 매개변수, 그다음 훈련 세트를 전체 전달.\n",
        "print(scores) # 처음 2개의 키는 각 모델을 훈련하는 시간과 검증 시간. 각 키마다 5개의 값 -> 5-폴드 교차 검증\n",
        "\n",
        "import numpy as np\n",
        "print(np.mean(scores['test_score'])) # 교차 검증의 최종 점수\n",
        "\n",
        "\n",
        "#cross_validate()는 훈련 세트를 섞어 폴드를 나누지 않는다. train_test_split이 선행된다면 섞을 필요가 없지만, 훈련 세트를 섞으려면 splitter(분할기)를 지정해야한다.\n",
        "#cross_validate()는 회귀 모델 - KFold 분할기 사용, 분류 - stratifiedKFold사용(타깃 클래스를 골고루 나누기 위해서).\n",
        "\n",
        "#위 코드는 이거랑 동일한것임.\n",
        "from sklearn.model_selection import StratifiedKFold\n",
        "scores = cross_validate(dt, train_input, train_target, cv=StratifiedKFold())\n",
        "print(np.mean(scores['test_score']))\n",
        "\n",
        "#훈련 세트를 섞고 10-폴드 교차 검증코드는 다음과 같음\n",
        "splitter = StratifiedKFold(n_splits=10, shuffle=True, random_state=42)\n",
        "scores = cross_validate(dt,train_input, train_target,cv=splitter)\n",
        "print(np.mean(scores['test_score']))"
      ],
      "metadata": {
        "colab": {
          "base_uri": "https://localhost:8080/"
        },
        "id": "LcXTf4HkLtZ_",
        "outputId": "aaaf53f0-36d1-4708-e65d-c9c50241d43b"
      },
      "execution_count": 4,
      "outputs": [
        {
          "output_type": "stream",
          "name": "stdout",
          "text": [
            "{'fit_time': array([0.01003647, 0.00938535, 0.0110271 , 0.01099777, 0.01045465]), 'score_time': array([0.00160456, 0.00176096, 0.00165415, 0.00171566, 0.00197577]), 'test_score': array([0.86923077, 0.84615385, 0.87680462, 0.84889317, 0.83541867])}\n",
            "0.855300214703487\n",
            "0.855300214703487\n",
            "0.8574181117533719\n"
          ]
        }
      ]
    },
    {
      "cell_type": "code",
      "source": [
        "#하이퍼 파라미터 튜닝\n",
        "#먼저 라이브러리 제공 기본 값을 이용 -> 검증 세트의 점수나 교차 검증을 통해 매개변수를 바꿈, 모델마다 적게 1~2개에서 많게 5~6개의 매개변수 제공.\n",
        "#매개변수가 A, B가 있을때 최적의 A를 찾았다고 고정시키고 B를 찾으면 안된다. 최적의 조합을 찾아야 하기 때문\n",
        "#for문으로 구현할 수 있지만 사이킷런의 그리드 서치를 사용하면 된다. cross_validate()함수도 미사용\n",
        "from sklearn.model_selection import GridSearchCV\n",
        "params = {'min_impurity_decrease' : [0.0001, 0.0002, 0.0003, 0.0004, 0.0005]} #탐색할 값의 리스트\n",
        "gs = GridSearchCV(DecisionTreeClassifier(random_state=42),params,n_jobs=-1) #탐색 대상 모델과 params변수를 통해 그리드 서치 객체 생성\n",
        "gs.fit(train_input,train_target)#훈련처럼 호출하여 그리드 서치 객체가 결정 트리 모델 min_impurity_decrease 값을 바꿔가며 총 5회 실시\n",
        "dt = gs.best_estimator_\n",
        "print(dt.score(train_input,train_target))\n",
        "#그리드 서치로 찾은 최적의 매개변수\n",
        "print(gs.best_params_)"
      ],
      "metadata": {
        "colab": {
          "base_uri": "https://localhost:8080/"
        },
        "id": "0JppkiiQMz6V",
        "outputId": "2153dd23-b2df-43b8-991f-eed4cee070b0"
      },
      "execution_count": 5,
      "outputs": [
        {
          "output_type": "stream",
          "name": "stdout",
          "text": [
            "0.9615162593804117\n",
            "{'min_impurity_decrease': 0.0001}\n"
          ]
        }
      ]
    },
    {
      "cell_type": "code",
      "source": [
        "#각 매개변수에서 수행한 교차검증의 평균 점수\n",
        "print(gs.cv_results_['mean_test_score'])\n",
        "#argmax() 함수를 통해 가장 큰 값의 인덱스 추출\n",
        "best_index = np.argmax(gs.cv_results_['mean_test_score'])\n",
        "print(gs.cv_results_['params'][best_index])"
      ],
      "metadata": {
        "colab": {
          "base_uri": "https://localhost:8080/"
        },
        "id": "-FbPsz5KQ6Ng",
        "outputId": "7c44a7b3-a331-4a17-8ec2-f8bbb86d92e9"
      },
      "execution_count": 6,
      "outputs": [
        {
          "output_type": "stream",
          "name": "stdout",
          "text": [
            "[0.86819297 0.86453617 0.86492226 0.86780891 0.86761605]\n",
            "{'min_impurity_decrease': 0.0001}\n"
          ]
        }
      ]
    },
    {
      "cell_type": "markdown",
      "source": [
        "1. 탐색할 매개변수 지정\n",
        "2. 훈련 세트에서 그리드 서치 수행 -> 최상의 평균 점수가 나오는 매개변수 조합을 찾음 print(gs.best_params_)\n",
        "3. 그리드 서치는 최상의 매개변수에서 (교차 검증에 사용한 훈련세트 아님!) 전체 훈련 세트를 사용해 최종 모델 훈련. 이 모델도 그리드 서치 객체에 저장"
      ],
      "metadata": {
        "id": "aHNWmxRQXh4j"
      }
    },
    {
      "cell_type": "code",
      "source": [
        "#더 복잡한 매개변수 조합 탐색\n",
        "#min_impurity_decrease <- 노드 분할을 위한 불순도 감소 최소량 지정\n",
        "params = {'min_impurity_decrease':np.arange(0.0001,0.001,0.0001), #np.arange()는 첫 번째 매개변수 값에서 시작하여 두 번째 매개변수에 도달할 떄까지 세 번째 매개변수를 계속 더한 배열을 만든다. 0.0001~0.0009로 9개 원소\n",
        "          'max_depth' : range(5,20,1), #range np.arange랑 비슷한데 정수만 가능함. max_depth를 5에서 20까지 1씩 증가하면서 15개의 값을 만듦 15개의 원소\n",
        "          'min_samples_split' : range(2,100,10) # 2부터 100까지 10씩증가 10개의 원소\n",
        "          }#총 9*15*10 = 1350개의 원소\n",
        "          #기본 5-폴드 교차 검증을 수행하므로 모델은 6750개\n",
        "\n",
        "gs = GridSearchCV(DecisionTreeClassifier(random_state=42),params,n_jobs=-1)\n",
        "gs.fit(train_input,train_target)\n",
        ""
      ],
      "metadata": {
        "id": "m4CvvcfRXhgt",
        "colab": {
          "base_uri": "https://localhost:8080/",
          "height": 118
        },
        "outputId": "5a2b71ac-49cc-4d3d-81cb-0828d66944c4"
      },
      "execution_count": 7,
      "outputs": [
        {
          "output_type": "execute_result",
          "data": {
            "text/plain": [
              "GridSearchCV(estimator=DecisionTreeClassifier(random_state=42), n_jobs=-1,\n",
              "             param_grid={'max_depth': range(5, 20),\n",
              "                         'min_impurity_decrease': array([0.0001, 0.0002, 0.0003, 0.0004, 0.0005, 0.0006, 0.0007, 0.0008,\n",
              "       0.0009]),\n",
              "                         'min_samples_split': range(2, 100, 10)})"
            ],
            "text/html": [
              "<style>#sk-container-id-1 {color: black;background-color: white;}#sk-container-id-1 pre{padding: 0;}#sk-container-id-1 div.sk-toggleable {background-color: white;}#sk-container-id-1 label.sk-toggleable__label {cursor: pointer;display: block;width: 100%;margin-bottom: 0;padding: 0.3em;box-sizing: border-box;text-align: center;}#sk-container-id-1 label.sk-toggleable__label-arrow:before {content: \"▸\";float: left;margin-right: 0.25em;color: #696969;}#sk-container-id-1 label.sk-toggleable__label-arrow:hover:before {color: black;}#sk-container-id-1 div.sk-estimator:hover label.sk-toggleable__label-arrow:before {color: black;}#sk-container-id-1 div.sk-toggleable__content {max-height: 0;max-width: 0;overflow: hidden;text-align: left;background-color: #f0f8ff;}#sk-container-id-1 div.sk-toggleable__content pre {margin: 0.2em;color: black;border-radius: 0.25em;background-color: #f0f8ff;}#sk-container-id-1 input.sk-toggleable__control:checked~div.sk-toggleable__content {max-height: 200px;max-width: 100%;overflow: auto;}#sk-container-id-1 input.sk-toggleable__control:checked~label.sk-toggleable__label-arrow:before {content: \"▾\";}#sk-container-id-1 div.sk-estimator input.sk-toggleable__control:checked~label.sk-toggleable__label {background-color: #d4ebff;}#sk-container-id-1 div.sk-label input.sk-toggleable__control:checked~label.sk-toggleable__label {background-color: #d4ebff;}#sk-container-id-1 input.sk-hidden--visually {border: 0;clip: rect(1px 1px 1px 1px);clip: rect(1px, 1px, 1px, 1px);height: 1px;margin: -1px;overflow: hidden;padding: 0;position: absolute;width: 1px;}#sk-container-id-1 div.sk-estimator {font-family: monospace;background-color: #f0f8ff;border: 1px dotted black;border-radius: 0.25em;box-sizing: border-box;margin-bottom: 0.5em;}#sk-container-id-1 div.sk-estimator:hover {background-color: #d4ebff;}#sk-container-id-1 div.sk-parallel-item::after {content: \"\";width: 100%;border-bottom: 1px solid gray;flex-grow: 1;}#sk-container-id-1 div.sk-label:hover label.sk-toggleable__label {background-color: #d4ebff;}#sk-container-id-1 div.sk-serial::before {content: \"\";position: absolute;border-left: 1px solid gray;box-sizing: border-box;top: 0;bottom: 0;left: 50%;z-index: 0;}#sk-container-id-1 div.sk-serial {display: flex;flex-direction: column;align-items: center;background-color: white;padding-right: 0.2em;padding-left: 0.2em;position: relative;}#sk-container-id-1 div.sk-item {position: relative;z-index: 1;}#sk-container-id-1 div.sk-parallel {display: flex;align-items: stretch;justify-content: center;background-color: white;position: relative;}#sk-container-id-1 div.sk-item::before, #sk-container-id-1 div.sk-parallel-item::before {content: \"\";position: absolute;border-left: 1px solid gray;box-sizing: border-box;top: 0;bottom: 0;left: 50%;z-index: -1;}#sk-container-id-1 div.sk-parallel-item {display: flex;flex-direction: column;z-index: 1;position: relative;background-color: white;}#sk-container-id-1 div.sk-parallel-item:first-child::after {align-self: flex-end;width: 50%;}#sk-container-id-1 div.sk-parallel-item:last-child::after {align-self: flex-start;width: 50%;}#sk-container-id-1 div.sk-parallel-item:only-child::after {width: 0;}#sk-container-id-1 div.sk-dashed-wrapped {border: 1px dashed gray;margin: 0 0.4em 0.5em 0.4em;box-sizing: border-box;padding-bottom: 0.4em;background-color: white;}#sk-container-id-1 div.sk-label label {font-family: monospace;font-weight: bold;display: inline-block;line-height: 1.2em;}#sk-container-id-1 div.sk-label-container {text-align: center;}#sk-container-id-1 div.sk-container {/* jupyter's `normalize.less` sets `[hidden] { display: none; }` but bootstrap.min.css set `[hidden] { display: none !important; }` so we also need the `!important` here to be able to override the default hidden behavior on the sphinx rendered scikit-learn.org. See: https://github.com/scikit-learn/scikit-learn/issues/21755 */display: inline-block !important;position: relative;}#sk-container-id-1 div.sk-text-repr-fallback {display: none;}</style><div id=\"sk-container-id-1\" class=\"sk-top-container\"><div class=\"sk-text-repr-fallback\"><pre>GridSearchCV(estimator=DecisionTreeClassifier(random_state=42), n_jobs=-1,\n",
              "             param_grid={&#x27;max_depth&#x27;: range(5, 20),\n",
              "                         &#x27;min_impurity_decrease&#x27;: array([0.0001, 0.0002, 0.0003, 0.0004, 0.0005, 0.0006, 0.0007, 0.0008,\n",
              "       0.0009]),\n",
              "                         &#x27;min_samples_split&#x27;: range(2, 100, 10)})</pre><b>In a Jupyter environment, please rerun this cell to show the HTML representation or trust the notebook. <br />On GitHub, the HTML representation is unable to render, please try loading this page with nbviewer.org.</b></div><div class=\"sk-container\" hidden><div class=\"sk-item sk-dashed-wrapped\"><div class=\"sk-label-container\"><div class=\"sk-label sk-toggleable\"><input class=\"sk-toggleable__control sk-hidden--visually\" id=\"sk-estimator-id-1\" type=\"checkbox\" ><label for=\"sk-estimator-id-1\" class=\"sk-toggleable__label sk-toggleable__label-arrow\">GridSearchCV</label><div class=\"sk-toggleable__content\"><pre>GridSearchCV(estimator=DecisionTreeClassifier(random_state=42), n_jobs=-1,\n",
              "             param_grid={&#x27;max_depth&#x27;: range(5, 20),\n",
              "                         &#x27;min_impurity_decrease&#x27;: array([0.0001, 0.0002, 0.0003, 0.0004, 0.0005, 0.0006, 0.0007, 0.0008,\n",
              "       0.0009]),\n",
              "                         &#x27;min_samples_split&#x27;: range(2, 100, 10)})</pre></div></div></div><div class=\"sk-parallel\"><div class=\"sk-parallel-item\"><div class=\"sk-item\"><div class=\"sk-label-container\"><div class=\"sk-label sk-toggleable\"><input class=\"sk-toggleable__control sk-hidden--visually\" id=\"sk-estimator-id-2\" type=\"checkbox\" ><label for=\"sk-estimator-id-2\" class=\"sk-toggleable__label sk-toggleable__label-arrow\">estimator: DecisionTreeClassifier</label><div class=\"sk-toggleable__content\"><pre>DecisionTreeClassifier(random_state=42)</pre></div></div></div><div class=\"sk-serial\"><div class=\"sk-item\"><div class=\"sk-estimator sk-toggleable\"><input class=\"sk-toggleable__control sk-hidden--visually\" id=\"sk-estimator-id-3\" type=\"checkbox\" ><label for=\"sk-estimator-id-3\" class=\"sk-toggleable__label sk-toggleable__label-arrow\">DecisionTreeClassifier</label><div class=\"sk-toggleable__content\"><pre>DecisionTreeClassifier(random_state=42)</pre></div></div></div></div></div></div></div></div></div></div>"
            ]
          },
          "metadata": {},
          "execution_count": 7
        }
      ]
    },
    {
      "cell_type": "code",
      "source": [
        "print(gs.best_params_)\n",
        "print(np.max(gs.cv_results_['mean_test_score']))"
      ],
      "metadata": {
        "id": "kJ4MZ1_WU46C",
        "colab": {
          "base_uri": "https://localhost:8080/"
        },
        "outputId": "0deab239-f4c0-4e0a-de6a-60f27c7ca7fe"
      },
      "execution_count": 8,
      "outputs": [
        {
          "output_type": "stream",
          "name": "stdout",
          "text": [
            "{'max_depth': 14, 'min_impurity_decrease': 0.0004, 'min_samples_split': 12}\n",
            "0.8683865773302731\n"
          ]
        }
      ]
    },
    {
      "cell_type": "code",
      "source": [
        "#랜덤 서치\n",
        "#매개변수 값이 수치일 때, 값의 범위나 간격을 미리 정하기 어렵다.\n",
        "#또한, 조건이 많아 그리드 서치 수행 시간이 오래 걸릴 경우, 랜덤 서치 사용\n",
        "#매개변수 값의 목록이 아닌 샘플링할 수 있는 확률 분포 객체를 전달한다.\n",
        "from scipy.stats import uniform, randint # 2개의 확률 분포 클래스\n",
        "#주어진 범위에서 고르게 값을 뽑느다. -> 균등 분포에서 샘플링\n",
        "#randint -> 정수값, uniform -> 실숫값.\n",
        "rgen = randint(0,10) # 0에서 10 사이의 범위를 갖는 randint 객체\n",
        "rgen.rvs(10) # 10개 샘플링 -> 고르게 되는거같지가 않음"
      ],
      "metadata": {
        "colab": {
          "base_uri": "https://localhost:8080/"
        },
        "id": "I6jqEh5Ixz1G",
        "outputId": "73d85781-bf01-4fe7-8953-44ef6e546b33"
      },
      "execution_count": 12,
      "outputs": [
        {
          "output_type": "execute_result",
          "data": {
            "text/plain": [
              "array([0, 4, 2, 2, 7, 7, 4, 0, 9, 6])"
            ]
          },
          "metadata": {},
          "execution_count": 12
        }
      ]
    },
    {
      "cell_type": "code",
      "source": [
        "np.unique(rgen.rvs(1000), return_counts=True) #1000개 샘플링, 어느정도 고르게 추출된거로 보임"
      ],
      "metadata": {
        "colab": {
          "base_uri": "https://localhost:8080/"
        },
        "id": "FJhlFf5goo1l",
        "outputId": "852d17cf-6417-4fb6-92a9-bcf487cc661a"
      },
      "execution_count": 13,
      "outputs": [
        {
          "output_type": "execute_result",
          "data": {
            "text/plain": [
              "(array([0, 1, 2, 3, 4, 5, 6, 7, 8, 9]),\n",
              " array([105,  85, 111,  96,  97,  85,  99, 110,  95, 117]))"
            ]
          },
          "metadata": {},
          "execution_count": 13
        }
      ]
    },
    {
      "cell_type": "code",
      "source": [
        "ugen = uniform(0,1)\n",
        "ugen.rvs(10)"
      ],
      "metadata": {
        "colab": {
          "base_uri": "https://localhost:8080/"
        },
        "id": "2_AdbLXfo0pa",
        "outputId": "4d3df2fc-d21f-4fce-daca-7fe754f811e3"
      },
      "execution_count": 16,
      "outputs": [
        {
          "output_type": "execute_result",
          "data": {
            "text/plain": [
              "array([0.4792551 , 0.00502965, 0.67734991, 0.08599626, 0.78537964,\n",
              "       0.7393569 , 0.06931625, 0.23557291, 0.6048615 , 0.88769804])"
            ]
          },
          "metadata": {},
          "execution_count": 16
        }
      ]
    },
    {
      "cell_type": "code",
      "source": [
        "params = {'min_impurity_decrease' : uniform(0.0001,0.001),\n",
        "          'max_depth' : randint(20,50),\n",
        "          'min_samples_split' : randint(2,25),\n",
        "          'min_samples_leaf' : randint(1,25),\n",
        "          }\n",
        "\n",
        "from sklearn.model_selection import RandomizedSearchCV\n",
        "gs = RandomizedSearchCV(DecisionTreeClassifier(random_state=42),params,\n",
        "                        n_iter=100, n_jobs=-1, random_state=42) #params에 정의된 매개변수 범위에서 총 100번을 샘플링하여 교차 검증을 수행하고, 최적의 매개변수 조합을 찾음\n",
        "gs.fit(train_input,train_target)\n",
        "\n",
        "print(gs.best_params_)\n",
        "print(np.max(gs.cv_results_['mean_test_score']))\n",
        "\n",
        "dt=gs.best_estimator_\n",
        "print(dt.score(test_input,test_target))"
      ],
      "metadata": {
        "colab": {
          "base_uri": "https://localhost:8080/"
        },
        "id": "EbOGA2FVo-KF",
        "outputId": "b4e2fab0-4d04-4b34-aff5-9e7a630be431"
      },
      "execution_count": 25,
      "outputs": [
        {
          "output_type": "stream",
          "name": "stdout",
          "text": [
            "{'max_depth': 39, 'min_impurity_decrease': 0.00034102546602601173, 'min_samples_leaf': 7, 'min_samples_split': 13}\n",
            "0.8695428296438884\n",
            "0.86\n"
          ]
        }
      ]
    },
    {
      "cell_type": "code",
      "source": [],
      "metadata": {
        "id": "ja7NMelRr0p-"
      },
      "execution_count": null,
      "outputs": []
    }
  ]
}